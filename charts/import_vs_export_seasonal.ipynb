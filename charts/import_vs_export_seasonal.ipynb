{
 "cells": [
  {
   "cell_type": "code",
   "execution_count": 1,
   "id": "c0acad56",
   "metadata": {
    "pycharm": {
     "name": "#%%\n"
    }
   },
   "outputs": [],
   "source": [
    "import pandas as pd\n",
    "import plotly.io as pio\n",
    "import plotly.graph_objects as go"
   ]
  },
  {
   "cell_type": "code",
   "execution_count": 31,
   "id": "cff44344",
   "metadata": {
    "pycharm": {
     "name": "#%%\n"
    }
   },
   "outputs": [
    {
     "data": {
      "text/html": [
       "<div>\n",
       "<style scoped>\n",
       "    .dataframe tbody tr th:only-of-type {\n",
       "        vertical-align: middle;\n",
       "    }\n",
       "\n",
       "    .dataframe tbody tr th {\n",
       "        vertical-align: top;\n",
       "    }\n",
       "\n",
       "    .dataframe thead th {\n",
       "        text-align: right;\n",
       "    }\n",
       "</style>\n",
       "<table border=\"1\" class=\"dataframe\">\n",
       "  <thead>\n",
       "    <tr style=\"text-align: right;\">\n",
       "      <th></th>\n",
       "      <th>year_season</th>\n",
       "      <th>month_in_season</th>\n",
       "      <th>year</th>\n",
       "      <th>month</th>\n",
       "      <th>production_hydro</th>\n",
       "      <th>production_nuclear</th>\n",
       "      <th>production_therm_and_renewable</th>\n",
       "      <th>production_total</th>\n",
       "      <th>production_hydro_losses</th>\n",
       "      <th>production_total_netto</th>\n",
       "      <th>import</th>\n",
       "      <th>export</th>\n",
       "      <th>consumption_country</th>\n",
       "      <th>losses</th>\n",
       "      <th>consumation_final</th>\n",
       "      <th>import_export_balance</th>\n",
       "      <th>import_minus</th>\n",
       "    </tr>\n",
       "  </thead>\n",
       "  <tbody>\n",
       "    <tr>\n",
       "      <th>0</th>\n",
       "      <td>Summer&lt;br&gt;1990</td>\n",
       "      <td>21</td>\n",
       "      <td>11940</td>\n",
       "      <td>39</td>\n",
       "      <td>17508</td>\n",
       "      <td>9566</td>\n",
       "      <td>363</td>\n",
       "      <td>27437</td>\n",
       "      <td>1321</td>\n",
       "      <td>26116</td>\n",
       "      <td>9686</td>\n",
       "      <td>12955</td>\n",
       "      <td>22847</td>\n",
       "      <td>1712</td>\n",
       "      <td>21135</td>\n",
       "      <td>3269</td>\n",
       "      <td>-9686</td>\n",
       "    </tr>\n",
       "    <tr>\n",
       "      <th>1</th>\n",
       "      <td>Summer&lt;br&gt;1991</td>\n",
       "      <td>21</td>\n",
       "      <td>11946</td>\n",
       "      <td>39</td>\n",
       "      <td>18370</td>\n",
       "      <td>8895</td>\n",
       "      <td>456</td>\n",
       "      <td>27721</td>\n",
       "      <td>1559</td>\n",
       "      <td>26162</td>\n",
       "      <td>11093</td>\n",
       "      <td>13994</td>\n",
       "      <td>23261</td>\n",
       "      <td>1733</td>\n",
       "      <td>21528</td>\n",
       "      <td>2901</td>\n",
       "      <td>-11093</td>\n",
       "    </tr>\n",
       "    <tr>\n",
       "      <th>2</th>\n",
       "      <td>Summer&lt;br&gt;1992</td>\n",
       "      <td>21</td>\n",
       "      <td>11952</td>\n",
       "      <td>39</td>\n",
       "      <td>19574</td>\n",
       "      <td>9364</td>\n",
       "      <td>398</td>\n",
       "      <td>29336</td>\n",
       "      <td>1114</td>\n",
       "      <td>28222</td>\n",
       "      <td>9457</td>\n",
       "      <td>14482</td>\n",
       "      <td>23197</td>\n",
       "      <td>1723</td>\n",
       "      <td>21474</td>\n",
       "      <td>5025</td>\n",
       "      <td>-9457</td>\n",
       "    </tr>\n",
       "    <tr>\n",
       "      <th>3</th>\n",
       "      <td>Summer&lt;br&gt;1993</td>\n",
       "      <td>21</td>\n",
       "      <td>11958</td>\n",
       "      <td>39</td>\n",
       "      <td>19792</td>\n",
       "      <td>9149</td>\n",
       "      <td>397</td>\n",
       "      <td>29338</td>\n",
       "      <td>967</td>\n",
       "      <td>28371</td>\n",
       "      <td>10341</td>\n",
       "      <td>15847</td>\n",
       "      <td>22865</td>\n",
       "      <td>1692</td>\n",
       "      <td>21173</td>\n",
       "      <td>5506</td>\n",
       "      <td>-10341</td>\n",
       "    </tr>\n",
       "    <tr>\n",
       "      <th>4</th>\n",
       "      <td>Summer&lt;br&gt;1994</td>\n",
       "      <td>21</td>\n",
       "      <td>11964</td>\n",
       "      <td>39</td>\n",
       "      <td>23183</td>\n",
       "      <td>9827</td>\n",
       "      <td>424</td>\n",
       "      <td>33434</td>\n",
       "      <td>1038</td>\n",
       "      <td>32396</td>\n",
       "      <td>9144</td>\n",
       "      <td>18240</td>\n",
       "      <td>23300</td>\n",
       "      <td>1717</td>\n",
       "      <td>21583</td>\n",
       "      <td>9096</td>\n",
       "      <td>-9144</td>\n",
       "    </tr>\n",
       "    <tr>\n",
       "      <th>...</th>\n",
       "      <td>...</td>\n",
       "      <td>...</td>\n",
       "      <td>...</td>\n",
       "      <td>...</td>\n",
       "      <td>...</td>\n",
       "      <td>...</td>\n",
       "      <td>...</td>\n",
       "      <td>...</td>\n",
       "      <td>...</td>\n",
       "      <td>...</td>\n",
       "      <td>...</td>\n",
       "      <td>...</td>\n",
       "      <td>...</td>\n",
       "      <td>...</td>\n",
       "      <td>...</td>\n",
       "      <td>...</td>\n",
       "      <td>...</td>\n",
       "    </tr>\n",
       "    <tr>\n",
       "      <th>60</th>\n",
       "      <td>Winter&lt;br&gt;2017/2018</td>\n",
       "      <td>21</td>\n",
       "      <td>12105</td>\n",
       "      <td>39</td>\n",
       "      <td>16699</td>\n",
       "      <td>10200</td>\n",
       "      <td>2628</td>\n",
       "      <td>29527</td>\n",
       "      <td>1745</td>\n",
       "      <td>27782</td>\n",
       "      <td>23533</td>\n",
       "      <td>16815</td>\n",
       "      <td>34500</td>\n",
       "      <td>2351</td>\n",
       "      <td>32149</td>\n",
       "      <td>-6718</td>\n",
       "      <td>-23533</td>\n",
       "    </tr>\n",
       "    <tr>\n",
       "      <th>61</th>\n",
       "      <td>Winter&lt;br&gt;2018/2019</td>\n",
       "      <td>21</td>\n",
       "      <td>12111</td>\n",
       "      <td>39</td>\n",
       "      <td>15066</td>\n",
       "      <td>12999</td>\n",
       "      <td>2844</td>\n",
       "      <td>30909</td>\n",
       "      <td>1630</td>\n",
       "      <td>29279</td>\n",
       "      <td>20365</td>\n",
       "      <td>15812</td>\n",
       "      <td>33832</td>\n",
       "      <td>2303</td>\n",
       "      <td>31529</td>\n",
       "      <td>-4553</td>\n",
       "      <td>-20365</td>\n",
       "    </tr>\n",
       "    <tr>\n",
       "      <th>62</th>\n",
       "      <td>Winter&lt;br&gt;2019/2020</td>\n",
       "      <td>21</td>\n",
       "      <td>12117</td>\n",
       "      <td>39</td>\n",
       "      <td>18407</td>\n",
       "      <td>13483</td>\n",
       "      <td>3034</td>\n",
       "      <td>34924</td>\n",
       "      <td>1667</td>\n",
       "      <td>33257</td>\n",
       "      <td>17726</td>\n",
       "      <td>18195</td>\n",
       "      <td>32788</td>\n",
       "      <td>2234</td>\n",
       "      <td>30554</td>\n",
       "      <td>469</td>\n",
       "      <td>-17726</td>\n",
       "    </tr>\n",
       "    <tr>\n",
       "      <th>63</th>\n",
       "      <td>Winter&lt;br&gt;2020/2021</td>\n",
       "      <td>21</td>\n",
       "      <td>12123</td>\n",
       "      <td>39</td>\n",
       "      <td>18121</td>\n",
       "      <td>12502</td>\n",
       "      <td>2789</td>\n",
       "      <td>33412</td>\n",
       "      <td>1588</td>\n",
       "      <td>31824</td>\n",
       "      <td>17739</td>\n",
       "      <td>15924</td>\n",
       "      <td>33639</td>\n",
       "      <td>2292</td>\n",
       "      <td>31347</td>\n",
       "      <td>-1815</td>\n",
       "      <td>-17739</td>\n",
       "    </tr>\n",
       "    <tr>\n",
       "      <th>64</th>\n",
       "      <td>Winter&lt;br&gt;2021/2022</td>\n",
       "      <td>10</td>\n",
       "      <td>8085</td>\n",
       "      <td>34</td>\n",
       "      <td>10606</td>\n",
       "      <td>6742</td>\n",
       "      <td>1856</td>\n",
       "      <td>19204</td>\n",
       "      <td>1371</td>\n",
       "      <td>17833</td>\n",
       "      <td>13665</td>\n",
       "      <td>8173</td>\n",
       "      <td>23325</td>\n",
       "      <td>1570</td>\n",
       "      <td>21755</td>\n",
       "      <td>-5492</td>\n",
       "      <td>-13665</td>\n",
       "    </tr>\n",
       "  </tbody>\n",
       "</table>\n",
       "<p>65 rows × 17 columns</p>\n",
       "</div>"
      ],
      "text/plain": [
       "            year_season  month_in_season   year  month  production_hydro  \\\n",
       "0        Summer<br>1990               21  11940     39             17508   \n",
       "1        Summer<br>1991               21  11946     39             18370   \n",
       "2        Summer<br>1992               21  11952     39             19574   \n",
       "3        Summer<br>1993               21  11958     39             19792   \n",
       "4        Summer<br>1994               21  11964     39             23183   \n",
       "..                  ...              ...    ...    ...               ...   \n",
       "60  Winter<br>2017/2018               21  12105     39             16699   \n",
       "61  Winter<br>2018/2019               21  12111     39             15066   \n",
       "62  Winter<br>2019/2020               21  12117     39             18407   \n",
       "63  Winter<br>2020/2021               21  12123     39             18121   \n",
       "64  Winter<br>2021/2022               10   8085     34             10606   \n",
       "\n",
       "    production_nuclear  production_therm_and_renewable  production_total  \\\n",
       "0                 9566                             363             27437   \n",
       "1                 8895                             456             27721   \n",
       "2                 9364                             398             29336   \n",
       "3                 9149                             397             29338   \n",
       "4                 9827                             424             33434   \n",
       "..                 ...                             ...               ...   \n",
       "60               10200                            2628             29527   \n",
       "61               12999                            2844             30909   \n",
       "62               13483                            3034             34924   \n",
       "63               12502                            2789             33412   \n",
       "64                6742                            1856             19204   \n",
       "\n",
       "    production_hydro_losses  production_total_netto  import  export  \\\n",
       "0                      1321                   26116    9686   12955   \n",
       "1                      1559                   26162   11093   13994   \n",
       "2                      1114                   28222    9457   14482   \n",
       "3                       967                   28371   10341   15847   \n",
       "4                      1038                   32396    9144   18240   \n",
       "..                      ...                     ...     ...     ...   \n",
       "60                     1745                   27782   23533   16815   \n",
       "61                     1630                   29279   20365   15812   \n",
       "62                     1667                   33257   17726   18195   \n",
       "63                     1588                   31824   17739   15924   \n",
       "64                     1371                   17833   13665    8173   \n",
       "\n",
       "    consumption_country  losses  consumation_final  import_export_balance  \\\n",
       "0                 22847    1712              21135                   3269   \n",
       "1                 23261    1733              21528                   2901   \n",
       "2                 23197    1723              21474                   5025   \n",
       "3                 22865    1692              21173                   5506   \n",
       "4                 23300    1717              21583                   9096   \n",
       "..                  ...     ...                ...                    ...   \n",
       "60                34500    2351              32149                  -6718   \n",
       "61                33832    2303              31529                  -4553   \n",
       "62                32788    2234              30554                    469   \n",
       "63                33639    2292              31347                  -1815   \n",
       "64                23325    1570              21755                  -5492   \n",
       "\n",
       "    import_minus  \n",
       "0          -9686  \n",
       "1         -11093  \n",
       "2          -9457  \n",
       "3         -10341  \n",
       "4          -9144  \n",
       "..           ...  \n",
       "60        -23533  \n",
       "61        -20365  \n",
       "62        -17726  \n",
       "63        -17739  \n",
       "64        -13665  \n",
       "\n",
       "[65 rows x 17 columns]"
      ]
     },
     "execution_count": 31,
     "metadata": {},
     "output_type": "execute_result"
    }
   ],
   "source": [
    "df = pd.read_csv('../data/electricity_monthly.csv')\n",
    "df['import_export_balance'] = df['import_export_balance']*-1\n",
    "df['import_minus'] = df['import']*-1\n",
    "df = df.groupby('year_season').sum()\n",
    "df = df.reset_index(level=0)\n",
    "df"
   ]
  },
  {
   "cell_type": "markdown",
   "id": "0c7cd067",
   "metadata": {
    "pycharm": {
     "name": "#%% md\n"
    }
   },
   "source": [
    "## Import VS Export Winter"
   ]
  },
  {
   "cell_type": "code",
   "execution_count": 32,
   "id": "2f0b9330",
   "metadata": {},
   "outputs": [
    {
     "data": {
      "text/html": [
       "<div>\n",
       "<style scoped>\n",
       "    .dataframe tbody tr th:only-of-type {\n",
       "        vertical-align: middle;\n",
       "    }\n",
       "\n",
       "    .dataframe tbody tr th {\n",
       "        vertical-align: top;\n",
       "    }\n",
       "\n",
       "    .dataframe thead th {\n",
       "        text-align: right;\n",
       "    }\n",
       "</style>\n",
       "<table border=\"1\" class=\"dataframe\">\n",
       "  <thead>\n",
       "    <tr style=\"text-align: right;\">\n",
       "      <th></th>\n",
       "      <th>year_season</th>\n",
       "      <th>month_in_season</th>\n",
       "      <th>year</th>\n",
       "      <th>month</th>\n",
       "      <th>production_hydro</th>\n",
       "      <th>production_nuclear</th>\n",
       "      <th>production_therm_and_renewable</th>\n",
       "      <th>production_total</th>\n",
       "      <th>production_hydro_losses</th>\n",
       "      <th>production_total_netto</th>\n",
       "      <th>import</th>\n",
       "      <th>export</th>\n",
       "      <th>consumption_country</th>\n",
       "      <th>losses</th>\n",
       "      <th>consumation_final</th>\n",
       "      <th>import_export_balance</th>\n",
       "      <th>import_minus</th>\n",
       "    </tr>\n",
       "  </thead>\n",
       "  <tbody>\n",
       "    <tr>\n",
       "      <th>32</th>\n",
       "      <td>Winter&lt;br&gt;1989/1990</td>\n",
       "      <td>15</td>\n",
       "      <td>5970</td>\n",
       "      <td>6</td>\n",
       "      <td>6251</td>\n",
       "      <td>6321</td>\n",
       "      <td>421</td>\n",
       "      <td>12993</td>\n",
       "      <td>156</td>\n",
       "      <td>12837</td>\n",
       "      <td>6624</td>\n",
       "      <td>5815</td>\n",
       "      <td>13646</td>\n",
       "      <td>979</td>\n",
       "      <td>12667</td>\n",
       "      <td>-809</td>\n",
       "      <td>-6624</td>\n",
       "    </tr>\n",
       "    <tr>\n",
       "      <th>33</th>\n",
       "      <td>Winter&lt;br&gt;1990/1991</td>\n",
       "      <td>21</td>\n",
       "      <td>11943</td>\n",
       "      <td>39</td>\n",
       "      <td>14212</td>\n",
       "      <td>12737</td>\n",
       "      <td>765</td>\n",
       "      <td>27714</td>\n",
       "      <td>408</td>\n",
       "      <td>27306</td>\n",
       "      <td>13229</td>\n",
       "      <td>12646</td>\n",
       "      <td>27889</td>\n",
       "      <td>2011</td>\n",
       "      <td>25878</td>\n",
       "      <td>-583</td>\n",
       "      <td>-13229</td>\n",
       "    </tr>\n",
       "    <tr>\n",
       "      <th>34</th>\n",
       "      <td>Winter&lt;br&gt;1991/1992</td>\n",
       "      <td>21</td>\n",
       "      <td>11949</td>\n",
       "      <td>39</td>\n",
       "      <td>14363</td>\n",
       "      <td>12762</td>\n",
       "      <td>1136</td>\n",
       "      <td>28261</td>\n",
       "      <td>325</td>\n",
       "      <td>27936</td>\n",
       "      <td>12850</td>\n",
       "      <td>12068</td>\n",
       "      <td>28718</td>\n",
       "      <td>2053</td>\n",
       "      <td>26665</td>\n",
       "      <td>-782</td>\n",
       "      <td>-12850</td>\n",
       "    </tr>\n",
       "    <tr>\n",
       "      <th>35</th>\n",
       "      <td>Winter&lt;br&gt;1992/1993</td>\n",
       "      <td>21</td>\n",
       "      <td>11955</td>\n",
       "      <td>39</td>\n",
       "      <td>14516</td>\n",
       "      <td>12799</td>\n",
       "      <td>706</td>\n",
       "      <td>28021</td>\n",
       "      <td>276</td>\n",
       "      <td>27745</td>\n",
       "      <td>12879</td>\n",
       "      <td>12824</td>\n",
       "      <td>27800</td>\n",
       "      <td>1982</td>\n",
       "      <td>25818</td>\n",
       "      <td>-55</td>\n",
       "      <td>-12879</td>\n",
       "    </tr>\n",
       "    <tr>\n",
       "      <th>36</th>\n",
       "      <td>Winter&lt;br&gt;1993/1994</td>\n",
       "      <td>21</td>\n",
       "      <td>11961</td>\n",
       "      <td>39</td>\n",
       "      <td>17085</td>\n",
       "      <td>12945</td>\n",
       "      <td>702</td>\n",
       "      <td>30732</td>\n",
       "      <td>228</td>\n",
       "      <td>30504</td>\n",
       "      <td>13209</td>\n",
       "      <td>16009</td>\n",
       "      <td>27704</td>\n",
       "      <td>1962</td>\n",
       "      <td>25742</td>\n",
       "      <td>2800</td>\n",
       "      <td>-13209</td>\n",
       "    </tr>\n",
       "    <tr>\n",
       "      <th>37</th>\n",
       "      <td>Winter&lt;br&gt;1994/1995</td>\n",
       "      <td>21</td>\n",
       "      <td>11967</td>\n",
       "      <td>39</td>\n",
       "      <td>16446</td>\n",
       "      <td>13355</td>\n",
       "      <td>744</td>\n",
       "      <td>30545</td>\n",
       "      <td>228</td>\n",
       "      <td>30317</td>\n",
       "      <td>14735</td>\n",
       "      <td>17225</td>\n",
       "      <td>27827</td>\n",
       "      <td>1964</td>\n",
       "      <td>25863</td>\n",
       "      <td>2490</td>\n",
       "      <td>-14735</td>\n",
       "    </tr>\n",
       "    <tr>\n",
       "      <th>38</th>\n",
       "      <td>Winter&lt;br&gt;1995/1996</td>\n",
       "      <td>21</td>\n",
       "      <td>11973</td>\n",
       "      <td>39</td>\n",
       "      <td>13506</td>\n",
       "      <td>13485</td>\n",
       "      <td>969</td>\n",
       "      <td>27960</td>\n",
       "      <td>427</td>\n",
       "      <td>27533</td>\n",
       "      <td>18756</td>\n",
       "      <td>17730</td>\n",
       "      <td>28559</td>\n",
       "      <td>1999</td>\n",
       "      <td>26560</td>\n",
       "      <td>-1026</td>\n",
       "      <td>-18756</td>\n",
       "    </tr>\n",
       "    <tr>\n",
       "      <th>39</th>\n",
       "      <td>Winter&lt;br&gt;1996/1997</td>\n",
       "      <td>21</td>\n",
       "      <td>11979</td>\n",
       "      <td>39</td>\n",
       "      <td>14358</td>\n",
       "      <td>13144</td>\n",
       "      <td>1076</td>\n",
       "      <td>28578</td>\n",
       "      <td>410</td>\n",
       "      <td>28168</td>\n",
       "      <td>17989</td>\n",
       "      <td>17687</td>\n",
       "      <td>28470</td>\n",
       "      <td>1986</td>\n",
       "      <td>26484</td>\n",
       "      <td>-302</td>\n",
       "      <td>-17989</td>\n",
       "    </tr>\n",
       "    <tr>\n",
       "      <th>40</th>\n",
       "      <td>Winter&lt;br&gt;1997/1998</td>\n",
       "      <td>21</td>\n",
       "      <td>11985</td>\n",
       "      <td>39</td>\n",
       "      <td>14458</td>\n",
       "      <td>13085</td>\n",
       "      <td>1266</td>\n",
       "      <td>28809</td>\n",
       "      <td>266</td>\n",
       "      <td>28543</td>\n",
       "      <td>20450</td>\n",
       "      <td>20147</td>\n",
       "      <td>28846</td>\n",
       "      <td>1999</td>\n",
       "      <td>26847</td>\n",
       "      <td>-303</td>\n",
       "      <td>-20450</td>\n",
       "    </tr>\n",
       "    <tr>\n",
       "      <th>41</th>\n",
       "      <td>Winter&lt;br&gt;1998/1999</td>\n",
       "      <td>21</td>\n",
       "      <td>11991</td>\n",
       "      <td>39</td>\n",
       "      <td>15350</td>\n",
       "      <td>13436</td>\n",
       "      <td>1335</td>\n",
       "      <td>30121</td>\n",
       "      <td>308</td>\n",
       "      <td>29813</td>\n",
       "      <td>21414</td>\n",
       "      <td>21435</td>\n",
       "      <td>29792</td>\n",
       "      <td>2035</td>\n",
       "      <td>27757</td>\n",
       "      <td>21</td>\n",
       "      <td>-21414</td>\n",
       "    </tr>\n",
       "    <tr>\n",
       "      <th>42</th>\n",
       "      <td>Winter&lt;br&gt;1999/2000</td>\n",
       "      <td>21</td>\n",
       "      <td>11997</td>\n",
       "      <td>39</td>\n",
       "      <td>17705</td>\n",
       "      <td>13723</td>\n",
       "      <td>1412</td>\n",
       "      <td>32840</td>\n",
       "      <td>356</td>\n",
       "      <td>32484</td>\n",
       "      <td>18685</td>\n",
       "      <td>20569</td>\n",
       "      <td>30600</td>\n",
       "      <td>2082</td>\n",
       "      <td>28518</td>\n",
       "      <td>1884</td>\n",
       "      <td>-18685</td>\n",
       "    </tr>\n",
       "    <tr>\n",
       "      <th>43</th>\n",
       "      <td>Winter&lt;br&gt;2000/2001</td>\n",
       "      <td>21</td>\n",
       "      <td>12003</td>\n",
       "      <td>39</td>\n",
       "      <td>18353</td>\n",
       "      <td>13888</td>\n",
       "      <td>1377</td>\n",
       "      <td>33618</td>\n",
       "      <td>671</td>\n",
       "      <td>32947</td>\n",
       "      <td>13991</td>\n",
       "      <td>16292</td>\n",
       "      <td>30646</td>\n",
       "      <td>2086</td>\n",
       "      <td>28560</td>\n",
       "      <td>2301</td>\n",
       "      <td>-13991</td>\n",
       "    </tr>\n",
       "    <tr>\n",
       "      <th>44</th>\n",
       "      <td>Winter&lt;br&gt;2001/2002</td>\n",
       "      <td>21</td>\n",
       "      <td>12009</td>\n",
       "      <td>39</td>\n",
       "      <td>14655</td>\n",
       "      <td>13936</td>\n",
       "      <td>1460</td>\n",
       "      <td>30051</td>\n",
       "      <td>645</td>\n",
       "      <td>29406</td>\n",
       "      <td>18759</td>\n",
       "      <td>16889</td>\n",
       "      <td>31276</td>\n",
       "      <td>2126</td>\n",
       "      <td>29150</td>\n",
       "      <td>-1870</td>\n",
       "      <td>-18759</td>\n",
       "    </tr>\n",
       "    <tr>\n",
       "      <th>45</th>\n",
       "      <td>Winter&lt;br&gt;2002/2003</td>\n",
       "      <td>21</td>\n",
       "      <td>12015</td>\n",
       "      <td>39</td>\n",
       "      <td>17246</td>\n",
       "      <td>14065</td>\n",
       "      <td>1536</td>\n",
       "      <td>32847</td>\n",
       "      <td>1054</td>\n",
       "      <td>31793</td>\n",
       "      <td>16091</td>\n",
       "      <td>16108</td>\n",
       "      <td>31776</td>\n",
       "      <td>2162</td>\n",
       "      <td>29614</td>\n",
       "      <td>17</td>\n",
       "      <td>-16091</td>\n",
       "    </tr>\n",
       "    <tr>\n",
       "      <th>46</th>\n",
       "      <td>Winter&lt;br&gt;2003/2004</td>\n",
       "      <td>21</td>\n",
       "      <td>12021</td>\n",
       "      <td>39</td>\n",
       "      <td>13880</td>\n",
       "      <td>14185</td>\n",
       "      <td>1507</td>\n",
       "      <td>29572</td>\n",
       "      <td>853</td>\n",
       "      <td>28719</td>\n",
       "      <td>17983</td>\n",
       "      <td>14227</td>\n",
       "      <td>32475</td>\n",
       "      <td>2210</td>\n",
       "      <td>30265</td>\n",
       "      <td>-3756</td>\n",
       "      <td>-17983</td>\n",
       "    </tr>\n",
       "    <tr>\n",
       "      <th>47</th>\n",
       "      <td>Winter&lt;br&gt;2004/2005</td>\n",
       "      <td>21</td>\n",
       "      <td>12027</td>\n",
       "      <td>39</td>\n",
       "      <td>15557</td>\n",
       "      <td>13937</td>\n",
       "      <td>1590</td>\n",
       "      <td>31084</td>\n",
       "      <td>809</td>\n",
       "      <td>30275</td>\n",
       "      <td>18532</td>\n",
       "      <td>15674</td>\n",
       "      <td>33133</td>\n",
       "      <td>2255</td>\n",
       "      <td>30878</td>\n",
       "      <td>-2858</td>\n",
       "      <td>-18532</td>\n",
       "    </tr>\n",
       "    <tr>\n",
       "      <th>48</th>\n",
       "      <td>Winter&lt;br&gt;2005/2006</td>\n",
       "      <td>21</td>\n",
       "      <td>12033</td>\n",
       "      <td>39</td>\n",
       "      <td>12348</td>\n",
       "      <td>14195</td>\n",
       "      <td>1762</td>\n",
       "      <td>28305</td>\n",
       "      <td>1125</td>\n",
       "      <td>27180</td>\n",
       "      <td>20117</td>\n",
       "      <td>13186</td>\n",
       "      <td>34111</td>\n",
       "      <td>2322</td>\n",
       "      <td>31789</td>\n",
       "      <td>-6931</td>\n",
       "      <td>-20117</td>\n",
       "    </tr>\n",
       "    <tr>\n",
       "      <th>49</th>\n",
       "      <td>Winter&lt;br&gt;2006/2007</td>\n",
       "      <td>21</td>\n",
       "      <td>12039</td>\n",
       "      <td>39</td>\n",
       "      <td>14249</td>\n",
       "      <td>14023</td>\n",
       "      <td>1695</td>\n",
       "      <td>29967</td>\n",
       "      <td>871</td>\n",
       "      <td>29096</td>\n",
       "      <td>22084</td>\n",
       "      <td>18435</td>\n",
       "      <td>32745</td>\n",
       "      <td>2231</td>\n",
       "      <td>30514</td>\n",
       "      <td>-3649</td>\n",
       "      <td>-22084</td>\n",
       "    </tr>\n",
       "    <tr>\n",
       "      <th>50</th>\n",
       "      <td>Winter&lt;br&gt;2007/2008</td>\n",
       "      <td>21</td>\n",
       "      <td>12045</td>\n",
       "      <td>39</td>\n",
       "      <td>14579</td>\n",
       "      <td>14212</td>\n",
       "      <td>1653</td>\n",
       "      <td>30444</td>\n",
       "      <td>864</td>\n",
       "      <td>29580</td>\n",
       "      <td>20907</td>\n",
       "      <td>16478</td>\n",
       "      <td>34009</td>\n",
       "      <td>2315</td>\n",
       "      <td>31694</td>\n",
       "      <td>-4429</td>\n",
       "      <td>-20907</td>\n",
       "    </tr>\n",
       "    <tr>\n",
       "      <th>51</th>\n",
       "      <td>Winter&lt;br&gt;2008/2009</td>\n",
       "      <td>21</td>\n",
       "      <td>12051</td>\n",
       "      <td>39</td>\n",
       "      <td>14979</td>\n",
       "      <td>14178</td>\n",
       "      <td>1650</td>\n",
       "      <td>30807</td>\n",
       "      <td>1022</td>\n",
       "      <td>29785</td>\n",
       "      <td>19931</td>\n",
       "      <td>15559</td>\n",
       "      <td>34157</td>\n",
       "      <td>2324</td>\n",
       "      <td>31833</td>\n",
       "      <td>-4372</td>\n",
       "      <td>-19931</td>\n",
       "    </tr>\n",
       "    <tr>\n",
       "      <th>52</th>\n",
       "      <td>Winter&lt;br&gt;2009/2010</td>\n",
       "      <td>21</td>\n",
       "      <td>12057</td>\n",
       "      <td>39</td>\n",
       "      <td>14159</td>\n",
       "      <td>14167</td>\n",
       "      <td>1781</td>\n",
       "      <td>30107</td>\n",
       "      <td>946</td>\n",
       "      <td>29161</td>\n",
       "      <td>20476</td>\n",
       "      <td>15340</td>\n",
       "      <td>34297</td>\n",
       "      <td>2334</td>\n",
       "      <td>31963</td>\n",
       "      <td>-5136</td>\n",
       "      <td>-20476</td>\n",
       "    </tr>\n",
       "    <tr>\n",
       "      <th>53</th>\n",
       "      <td>Winter&lt;br&gt;2010/2011</td>\n",
       "      <td>21</td>\n",
       "      <td>12063</td>\n",
       "      <td>39</td>\n",
       "      <td>15580</td>\n",
       "      <td>14261</td>\n",
       "      <td>1835</td>\n",
       "      <td>31676</td>\n",
       "      <td>908</td>\n",
       "      <td>30768</td>\n",
       "      <td>20537</td>\n",
       "      <td>16295</td>\n",
       "      <td>35010</td>\n",
       "      <td>2382</td>\n",
       "      <td>32628</td>\n",
       "      <td>-4242</td>\n",
       "      <td>-20537</td>\n",
       "    </tr>\n",
       "    <tr>\n",
       "      <th>54</th>\n",
       "      <td>Winter&lt;br&gt;2011/2012</td>\n",
       "      <td>21</td>\n",
       "      <td>12069</td>\n",
       "      <td>39</td>\n",
       "      <td>15613</td>\n",
       "      <td>14270</td>\n",
       "      <td>1865</td>\n",
       "      <td>31748</td>\n",
       "      <td>793</td>\n",
       "      <td>30955</td>\n",
       "      <td>21338</td>\n",
       "      <td>17547</td>\n",
       "      <td>34746</td>\n",
       "      <td>2365</td>\n",
       "      <td>32381</td>\n",
       "      <td>-3791</td>\n",
       "      <td>-21338</td>\n",
       "    </tr>\n",
       "    <tr>\n",
       "      <th>55</th>\n",
       "      <td>Winter&lt;br&gt;2012/2013</td>\n",
       "      <td>21</td>\n",
       "      <td>12075</td>\n",
       "      <td>39</td>\n",
       "      <td>17643</td>\n",
       "      <td>13443</td>\n",
       "      <td>2022</td>\n",
       "      <td>33108</td>\n",
       "      <td>735</td>\n",
       "      <td>32373</td>\n",
       "      <td>19077</td>\n",
       "      <td>16638</td>\n",
       "      <td>34812</td>\n",
       "      <td>2370</td>\n",
       "      <td>32442</td>\n",
       "      <td>-2439</td>\n",
       "      <td>-19077</td>\n",
       "    </tr>\n",
       "    <tr>\n",
       "      <th>56</th>\n",
       "      <td>Winter&lt;br&gt;2013/2014</td>\n",
       "      <td>21</td>\n",
       "      <td>12081</td>\n",
       "      <td>39</td>\n",
       "      <td>16939</td>\n",
       "      <td>14485</td>\n",
       "      <td>1962</td>\n",
       "      <td>33386</td>\n",
       "      <td>929</td>\n",
       "      <td>32457</td>\n",
       "      <td>18863</td>\n",
       "      <td>17293</td>\n",
       "      <td>34027</td>\n",
       "      <td>2316</td>\n",
       "      <td>31711</td>\n",
       "      <td>-1570</td>\n",
       "      <td>-18863</td>\n",
       "    </tr>\n",
       "    <tr>\n",
       "      <th>57</th>\n",
       "      <td>Winter&lt;br&gt;2014/2015</td>\n",
       "      <td>21</td>\n",
       "      <td>12087</td>\n",
       "      <td>39</td>\n",
       "      <td>17829</td>\n",
       "      <td>14264</td>\n",
       "      <td>2140</td>\n",
       "      <td>34233</td>\n",
       "      <td>650</td>\n",
       "      <td>33583</td>\n",
       "      <td>18988</td>\n",
       "      <td>18463</td>\n",
       "      <td>34108</td>\n",
       "      <td>2322</td>\n",
       "      <td>31786</td>\n",
       "      <td>-525</td>\n",
       "      <td>-18988</td>\n",
       "    </tr>\n",
       "    <tr>\n",
       "      <th>58</th>\n",
       "      <td>Winter&lt;br&gt;2015/2016</td>\n",
       "      <td>21</td>\n",
       "      <td>12093</td>\n",
       "      <td>39</td>\n",
       "      <td>15546</td>\n",
       "      <td>11714</td>\n",
       "      <td>2575</td>\n",
       "      <td>29835</td>\n",
       "      <td>931</td>\n",
       "      <td>28904</td>\n",
       "      <td>23166</td>\n",
       "      <td>18119</td>\n",
       "      <td>33951</td>\n",
       "      <td>2312</td>\n",
       "      <td>31639</td>\n",
       "      <td>-5047</td>\n",
       "      <td>-23166</td>\n",
       "    </tr>\n",
       "    <tr>\n",
       "      <th>59</th>\n",
       "      <td>Winter&lt;br&gt;2016/2017</td>\n",
       "      <td>21</td>\n",
       "      <td>12099</td>\n",
       "      <td>39</td>\n",
       "      <td>14764</td>\n",
       "      <td>8613</td>\n",
       "      <td>2746</td>\n",
       "      <td>26123</td>\n",
       "      <td>1372</td>\n",
       "      <td>24751</td>\n",
       "      <td>21852</td>\n",
       "      <td>12098</td>\n",
       "      <td>34505</td>\n",
       "      <td>2347</td>\n",
       "      <td>32158</td>\n",
       "      <td>-9754</td>\n",
       "      <td>-21852</td>\n",
       "    </tr>\n",
       "    <tr>\n",
       "      <th>60</th>\n",
       "      <td>Winter&lt;br&gt;2017/2018</td>\n",
       "      <td>21</td>\n",
       "      <td>12105</td>\n",
       "      <td>39</td>\n",
       "      <td>16699</td>\n",
       "      <td>10200</td>\n",
       "      <td>2628</td>\n",
       "      <td>29527</td>\n",
       "      <td>1745</td>\n",
       "      <td>27782</td>\n",
       "      <td>23533</td>\n",
       "      <td>16815</td>\n",
       "      <td>34500</td>\n",
       "      <td>2351</td>\n",
       "      <td>32149</td>\n",
       "      <td>-6718</td>\n",
       "      <td>-23533</td>\n",
       "    </tr>\n",
       "    <tr>\n",
       "      <th>61</th>\n",
       "      <td>Winter&lt;br&gt;2018/2019</td>\n",
       "      <td>21</td>\n",
       "      <td>12111</td>\n",
       "      <td>39</td>\n",
       "      <td>15066</td>\n",
       "      <td>12999</td>\n",
       "      <td>2844</td>\n",
       "      <td>30909</td>\n",
       "      <td>1630</td>\n",
       "      <td>29279</td>\n",
       "      <td>20365</td>\n",
       "      <td>15812</td>\n",
       "      <td>33832</td>\n",
       "      <td>2303</td>\n",
       "      <td>31529</td>\n",
       "      <td>-4553</td>\n",
       "      <td>-20365</td>\n",
       "    </tr>\n",
       "    <tr>\n",
       "      <th>62</th>\n",
       "      <td>Winter&lt;br&gt;2019/2020</td>\n",
       "      <td>21</td>\n",
       "      <td>12117</td>\n",
       "      <td>39</td>\n",
       "      <td>18407</td>\n",
       "      <td>13483</td>\n",
       "      <td>3034</td>\n",
       "      <td>34924</td>\n",
       "      <td>1667</td>\n",
       "      <td>33257</td>\n",
       "      <td>17726</td>\n",
       "      <td>18195</td>\n",
       "      <td>32788</td>\n",
       "      <td>2234</td>\n",
       "      <td>30554</td>\n",
       "      <td>469</td>\n",
       "      <td>-17726</td>\n",
       "    </tr>\n",
       "    <tr>\n",
       "      <th>63</th>\n",
       "      <td>Winter&lt;br&gt;2020/2021</td>\n",
       "      <td>21</td>\n",
       "      <td>12123</td>\n",
       "      <td>39</td>\n",
       "      <td>18121</td>\n",
       "      <td>12502</td>\n",
       "      <td>2789</td>\n",
       "      <td>33412</td>\n",
       "      <td>1588</td>\n",
       "      <td>31824</td>\n",
       "      <td>17739</td>\n",
       "      <td>15924</td>\n",
       "      <td>33639</td>\n",
       "      <td>2292</td>\n",
       "      <td>31347</td>\n",
       "      <td>-1815</td>\n",
       "      <td>-17739</td>\n",
       "    </tr>\n",
       "    <tr>\n",
       "      <th>64</th>\n",
       "      <td>Winter&lt;br&gt;2021/2022</td>\n",
       "      <td>10</td>\n",
       "      <td>8085</td>\n",
       "      <td>34</td>\n",
       "      <td>10606</td>\n",
       "      <td>6742</td>\n",
       "      <td>1856</td>\n",
       "      <td>19204</td>\n",
       "      <td>1371</td>\n",
       "      <td>17833</td>\n",
       "      <td>13665</td>\n",
       "      <td>8173</td>\n",
       "      <td>23325</td>\n",
       "      <td>1570</td>\n",
       "      <td>21755</td>\n",
       "      <td>-5492</td>\n",
       "      <td>-13665</td>\n",
       "    </tr>\n",
       "  </tbody>\n",
       "</table>\n",
       "</div>"
      ],
      "text/plain": [
       "            year_season  month_in_season   year  month  production_hydro  \\\n",
       "32  Winter<br>1989/1990               15   5970      6              6251   \n",
       "33  Winter<br>1990/1991               21  11943     39             14212   \n",
       "34  Winter<br>1991/1992               21  11949     39             14363   \n",
       "35  Winter<br>1992/1993               21  11955     39             14516   \n",
       "36  Winter<br>1993/1994               21  11961     39             17085   \n",
       "37  Winter<br>1994/1995               21  11967     39             16446   \n",
       "38  Winter<br>1995/1996               21  11973     39             13506   \n",
       "39  Winter<br>1996/1997               21  11979     39             14358   \n",
       "40  Winter<br>1997/1998               21  11985     39             14458   \n",
       "41  Winter<br>1998/1999               21  11991     39             15350   \n",
       "42  Winter<br>1999/2000               21  11997     39             17705   \n",
       "43  Winter<br>2000/2001               21  12003     39             18353   \n",
       "44  Winter<br>2001/2002               21  12009     39             14655   \n",
       "45  Winter<br>2002/2003               21  12015     39             17246   \n",
       "46  Winter<br>2003/2004               21  12021     39             13880   \n",
       "47  Winter<br>2004/2005               21  12027     39             15557   \n",
       "48  Winter<br>2005/2006               21  12033     39             12348   \n",
       "49  Winter<br>2006/2007               21  12039     39             14249   \n",
       "50  Winter<br>2007/2008               21  12045     39             14579   \n",
       "51  Winter<br>2008/2009               21  12051     39             14979   \n",
       "52  Winter<br>2009/2010               21  12057     39             14159   \n",
       "53  Winter<br>2010/2011               21  12063     39             15580   \n",
       "54  Winter<br>2011/2012               21  12069     39             15613   \n",
       "55  Winter<br>2012/2013               21  12075     39             17643   \n",
       "56  Winter<br>2013/2014               21  12081     39             16939   \n",
       "57  Winter<br>2014/2015               21  12087     39             17829   \n",
       "58  Winter<br>2015/2016               21  12093     39             15546   \n",
       "59  Winter<br>2016/2017               21  12099     39             14764   \n",
       "60  Winter<br>2017/2018               21  12105     39             16699   \n",
       "61  Winter<br>2018/2019               21  12111     39             15066   \n",
       "62  Winter<br>2019/2020               21  12117     39             18407   \n",
       "63  Winter<br>2020/2021               21  12123     39             18121   \n",
       "64  Winter<br>2021/2022               10   8085     34             10606   \n",
       "\n",
       "    production_nuclear  production_therm_and_renewable  production_total  \\\n",
       "32                6321                             421             12993   \n",
       "33               12737                             765             27714   \n",
       "34               12762                            1136             28261   \n",
       "35               12799                             706             28021   \n",
       "36               12945                             702             30732   \n",
       "37               13355                             744             30545   \n",
       "38               13485                             969             27960   \n",
       "39               13144                            1076             28578   \n",
       "40               13085                            1266             28809   \n",
       "41               13436                            1335             30121   \n",
       "42               13723                            1412             32840   \n",
       "43               13888                            1377             33618   \n",
       "44               13936                            1460             30051   \n",
       "45               14065                            1536             32847   \n",
       "46               14185                            1507             29572   \n",
       "47               13937                            1590             31084   \n",
       "48               14195                            1762             28305   \n",
       "49               14023                            1695             29967   \n",
       "50               14212                            1653             30444   \n",
       "51               14178                            1650             30807   \n",
       "52               14167                            1781             30107   \n",
       "53               14261                            1835             31676   \n",
       "54               14270                            1865             31748   \n",
       "55               13443                            2022             33108   \n",
       "56               14485                            1962             33386   \n",
       "57               14264                            2140             34233   \n",
       "58               11714                            2575             29835   \n",
       "59                8613                            2746             26123   \n",
       "60               10200                            2628             29527   \n",
       "61               12999                            2844             30909   \n",
       "62               13483                            3034             34924   \n",
       "63               12502                            2789             33412   \n",
       "64                6742                            1856             19204   \n",
       "\n",
       "    production_hydro_losses  production_total_netto  import  export  \\\n",
       "32                      156                   12837    6624    5815   \n",
       "33                      408                   27306   13229   12646   \n",
       "34                      325                   27936   12850   12068   \n",
       "35                      276                   27745   12879   12824   \n",
       "36                      228                   30504   13209   16009   \n",
       "37                      228                   30317   14735   17225   \n",
       "38                      427                   27533   18756   17730   \n",
       "39                      410                   28168   17989   17687   \n",
       "40                      266                   28543   20450   20147   \n",
       "41                      308                   29813   21414   21435   \n",
       "42                      356                   32484   18685   20569   \n",
       "43                      671                   32947   13991   16292   \n",
       "44                      645                   29406   18759   16889   \n",
       "45                     1054                   31793   16091   16108   \n",
       "46                      853                   28719   17983   14227   \n",
       "47                      809                   30275   18532   15674   \n",
       "48                     1125                   27180   20117   13186   \n",
       "49                      871                   29096   22084   18435   \n",
       "50                      864                   29580   20907   16478   \n",
       "51                     1022                   29785   19931   15559   \n",
       "52                      946                   29161   20476   15340   \n",
       "53                      908                   30768   20537   16295   \n",
       "54                      793                   30955   21338   17547   \n",
       "55                      735                   32373   19077   16638   \n",
       "56                      929                   32457   18863   17293   \n",
       "57                      650                   33583   18988   18463   \n",
       "58                      931                   28904   23166   18119   \n",
       "59                     1372                   24751   21852   12098   \n",
       "60                     1745                   27782   23533   16815   \n",
       "61                     1630                   29279   20365   15812   \n",
       "62                     1667                   33257   17726   18195   \n",
       "63                     1588                   31824   17739   15924   \n",
       "64                     1371                   17833   13665    8173   \n",
       "\n",
       "    consumption_country  losses  consumation_final  import_export_balance  \\\n",
       "32                13646     979              12667                   -809   \n",
       "33                27889    2011              25878                   -583   \n",
       "34                28718    2053              26665                   -782   \n",
       "35                27800    1982              25818                    -55   \n",
       "36                27704    1962              25742                   2800   \n",
       "37                27827    1964              25863                   2490   \n",
       "38                28559    1999              26560                  -1026   \n",
       "39                28470    1986              26484                   -302   \n",
       "40                28846    1999              26847                   -303   \n",
       "41                29792    2035              27757                     21   \n",
       "42                30600    2082              28518                   1884   \n",
       "43                30646    2086              28560                   2301   \n",
       "44                31276    2126              29150                  -1870   \n",
       "45                31776    2162              29614                     17   \n",
       "46                32475    2210              30265                  -3756   \n",
       "47                33133    2255              30878                  -2858   \n",
       "48                34111    2322              31789                  -6931   \n",
       "49                32745    2231              30514                  -3649   \n",
       "50                34009    2315              31694                  -4429   \n",
       "51                34157    2324              31833                  -4372   \n",
       "52                34297    2334              31963                  -5136   \n",
       "53                35010    2382              32628                  -4242   \n",
       "54                34746    2365              32381                  -3791   \n",
       "55                34812    2370              32442                  -2439   \n",
       "56                34027    2316              31711                  -1570   \n",
       "57                34108    2322              31786                   -525   \n",
       "58                33951    2312              31639                  -5047   \n",
       "59                34505    2347              32158                  -9754   \n",
       "60                34500    2351              32149                  -6718   \n",
       "61                33832    2303              31529                  -4553   \n",
       "62                32788    2234              30554                    469   \n",
       "63                33639    2292              31347                  -1815   \n",
       "64                23325    1570              21755                  -5492   \n",
       "\n",
       "    import_minus  \n",
       "32         -6624  \n",
       "33        -13229  \n",
       "34        -12850  \n",
       "35        -12879  \n",
       "36        -13209  \n",
       "37        -14735  \n",
       "38        -18756  \n",
       "39        -17989  \n",
       "40        -20450  \n",
       "41        -21414  \n",
       "42        -18685  \n",
       "43        -13991  \n",
       "44        -18759  \n",
       "45        -16091  \n",
       "46        -17983  \n",
       "47        -18532  \n",
       "48        -20117  \n",
       "49        -22084  \n",
       "50        -20907  \n",
       "51        -19931  \n",
       "52        -20476  \n",
       "53        -20537  \n",
       "54        -21338  \n",
       "55        -19077  \n",
       "56        -18863  \n",
       "57        -18988  \n",
       "58        -23166  \n",
       "59        -21852  \n",
       "60        -23533  \n",
       "61        -20365  \n",
       "62        -17726  \n",
       "63        -17739  \n",
       "64        -13665  "
      ]
     },
     "execution_count": 32,
     "metadata": {},
     "output_type": "execute_result"
    }
   ],
   "source": [
    "df_winter = df[df['year_season'].str.startswith('Winter')]\n",
    "df_winter"
   ]
  },
  {
   "cell_type": "code",
   "execution_count": 34,
   "id": "18616fd0",
   "metadata": {
    "pycharm": {
     "name": "#%%\n"
    }
   },
   "outputs": [
    {
     "data": {
      "application/vnd.plotly.v1+json": {
       "config": {
        "displayModeBar": true,
        "plotlyServerURL": "https://plot.ly"
       },
       "data": [
        {
         "marker": {
          "color": "gray"
         },
         "name": "Export",
         "type": "bar",
         "x": [
          "Winter<br>1989/1990",
          "Winter<br>1990/1991",
          "Winter<br>1991/1992",
          "Winter<br>1992/1993",
          "Winter<br>1993/1994",
          "Winter<br>1994/1995",
          "Winter<br>1995/1996",
          "Winter<br>1996/1997",
          "Winter<br>1997/1998",
          "Winter<br>1998/1999",
          "Winter<br>1999/2000",
          "Winter<br>2000/2001",
          "Winter<br>2001/2002",
          "Winter<br>2002/2003",
          "Winter<br>2003/2004",
          "Winter<br>2004/2005",
          "Winter<br>2005/2006",
          "Winter<br>2006/2007",
          "Winter<br>2007/2008",
          "Winter<br>2008/2009",
          "Winter<br>2009/2010",
          "Winter<br>2010/2011",
          "Winter<br>2011/2012",
          "Winter<br>2012/2013",
          "Winter<br>2013/2014",
          "Winter<br>2014/2015",
          "Winter<br>2015/2016",
          "Winter<br>2016/2017",
          "Winter<br>2017/2018",
          "Winter<br>2018/2019",
          "Winter<br>2019/2020",
          "Winter<br>2020/2021",
          "Winter<br>2021/2022"
         ],
         "y": [
          5815,
          12646,
          12068,
          12824,
          16009,
          17225,
          17730,
          17687,
          20147,
          21435,
          20569,
          16292,
          16889,
          16108,
          14227,
          15674,
          13186,
          18435,
          16478,
          15559,
          15340,
          16295,
          17547,
          16638,
          17293,
          18463,
          18119,
          12098,
          16815,
          15812,
          18195,
          15924,
          8173
         ]
        },
        {
         "marker": {
          "color": "red"
         },
         "name": "Import",
         "type": "bar",
         "x": [
          32,
          33,
          34,
          35,
          36,
          37,
          38,
          39,
          40,
          41,
          42,
          43,
          44,
          45,
          46,
          47,
          48,
          49,
          50,
          51,
          52,
          53,
          54,
          55,
          56,
          57,
          58,
          59,
          60,
          61,
          62,
          63,
          64
         ],
         "y": [
          -6624,
          -13229,
          -12850,
          -12879,
          -13209,
          -14735,
          -18756,
          -17989,
          -20450,
          -21414,
          -18685,
          -13991,
          -18759,
          -16091,
          -17983,
          -18532,
          -20117,
          -22084,
          -20907,
          -19931,
          -20476,
          -20537,
          -21338,
          -19077,
          -18863,
          -18988,
          -23166,
          -21852,
          -23533,
          -20365,
          -17726,
          -17739,
          -13665
         ]
        },
        {
         "line": {
          "color": "#000000",
          "width": 3
         },
         "mode": "lines",
         "name": "Balance",
         "showlegend": false,
         "type": "scatter",
         "x": [
          "Winter<br>1989/1990",
          "Winter<br>1990/1991",
          "Winter<br>1991/1992",
          "Winter<br>1992/1993",
          "Winter<br>1993/1994",
          "Winter<br>1994/1995",
          "Winter<br>1995/1996",
          "Winter<br>1996/1997",
          "Winter<br>1997/1998",
          "Winter<br>1998/1999",
          "Winter<br>1999/2000",
          "Winter<br>2000/2001",
          "Winter<br>2001/2002",
          "Winter<br>2002/2003",
          "Winter<br>2003/2004",
          "Winter<br>2004/2005",
          "Winter<br>2005/2006",
          "Winter<br>2006/2007",
          "Winter<br>2007/2008",
          "Winter<br>2008/2009",
          "Winter<br>2009/2010",
          "Winter<br>2010/2011",
          "Winter<br>2011/2012",
          "Winter<br>2012/2013",
          "Winter<br>2013/2014",
          "Winter<br>2014/2015",
          "Winter<br>2015/2016",
          "Winter<br>2016/2017",
          "Winter<br>2017/2018",
          "Winter<br>2018/2019",
          "Winter<br>2019/2020",
          "Winter<br>2020/2021",
          "Winter<br>2021/2022"
         ],
         "y": [
          -809,
          -583,
          -782,
          -55,
          2800,
          2490,
          -1026,
          -302,
          -303,
          21,
          1884,
          2301,
          -1870,
          17,
          -3756,
          -2858,
          -6931,
          -3649,
          -4429,
          -4372,
          -5136,
          -4242,
          -3791,
          -2439,
          -1570,
          -525,
          -5047,
          -9754,
          -6718,
          -4553,
          469,
          -1815,
          -5492
         ]
        }
       ],
       "layout": {
        "annotations": [
         {
          "font": {
           "color": "black",
           "size": 14
          },
          "showarrow": false,
          "text": "<b>Balance</b>",
          "textangle": 0,
          "x": 1,
          "xanchor": "left",
          "xref": "paper",
          "y": -5492,
          "yshift": 2
         }
        ],
        "barmode": "relative",
        "legend": {
         "orientation": "h"
        },
        "margin": {
         "b": 10,
         "pad": 10,
         "r": 250
        },
        "plot_bgcolor": "#ffffff",
        "separators": ",'",
        "showlegend": true,
        "template": {
         "data": {
          "bar": [
           {
            "error_x": {
             "color": "#2a3f5f"
            },
            "error_y": {
             "color": "#2a3f5f"
            },
            "marker": {
             "line": {
              "color": "#E5ECF6",
              "width": 0.5
             },
             "pattern": {
              "fillmode": "overlay",
              "size": 10,
              "solidity": 0.2
             }
            },
            "type": "bar"
           }
          ],
          "barpolar": [
           {
            "marker": {
             "line": {
              "color": "#E5ECF6",
              "width": 0.5
             },
             "pattern": {
              "fillmode": "overlay",
              "size": 10,
              "solidity": 0.2
             }
            },
            "type": "barpolar"
           }
          ],
          "carpet": [
           {
            "aaxis": {
             "endlinecolor": "#2a3f5f",
             "gridcolor": "white",
             "linecolor": "white",
             "minorgridcolor": "white",
             "startlinecolor": "#2a3f5f"
            },
            "baxis": {
             "endlinecolor": "#2a3f5f",
             "gridcolor": "white",
             "linecolor": "white",
             "minorgridcolor": "white",
             "startlinecolor": "#2a3f5f"
            },
            "type": "carpet"
           }
          ],
          "choropleth": [
           {
            "colorbar": {
             "outlinewidth": 0,
             "ticks": ""
            },
            "type": "choropleth"
           }
          ],
          "contour": [
           {
            "colorbar": {
             "outlinewidth": 0,
             "ticks": ""
            },
            "colorscale": [
             [
              0,
              "#0d0887"
             ],
             [
              0.1111111111111111,
              "#46039f"
             ],
             [
              0.2222222222222222,
              "#7201a8"
             ],
             [
              0.3333333333333333,
              "#9c179e"
             ],
             [
              0.4444444444444444,
              "#bd3786"
             ],
             [
              0.5555555555555556,
              "#d8576b"
             ],
             [
              0.6666666666666666,
              "#ed7953"
             ],
             [
              0.7777777777777778,
              "#fb9f3a"
             ],
             [
              0.8888888888888888,
              "#fdca26"
             ],
             [
              1,
              "#f0f921"
             ]
            ],
            "type": "contour"
           }
          ],
          "contourcarpet": [
           {
            "colorbar": {
             "outlinewidth": 0,
             "ticks": ""
            },
            "type": "contourcarpet"
           }
          ],
          "heatmap": [
           {
            "colorbar": {
             "outlinewidth": 0,
             "ticks": ""
            },
            "colorscale": [
             [
              0,
              "#0d0887"
             ],
             [
              0.1111111111111111,
              "#46039f"
             ],
             [
              0.2222222222222222,
              "#7201a8"
             ],
             [
              0.3333333333333333,
              "#9c179e"
             ],
             [
              0.4444444444444444,
              "#bd3786"
             ],
             [
              0.5555555555555556,
              "#d8576b"
             ],
             [
              0.6666666666666666,
              "#ed7953"
             ],
             [
              0.7777777777777778,
              "#fb9f3a"
             ],
             [
              0.8888888888888888,
              "#fdca26"
             ],
             [
              1,
              "#f0f921"
             ]
            ],
            "type": "heatmap"
           }
          ],
          "heatmapgl": [
           {
            "colorbar": {
             "outlinewidth": 0,
             "ticks": ""
            },
            "colorscale": [
             [
              0,
              "#0d0887"
             ],
             [
              0.1111111111111111,
              "#46039f"
             ],
             [
              0.2222222222222222,
              "#7201a8"
             ],
             [
              0.3333333333333333,
              "#9c179e"
             ],
             [
              0.4444444444444444,
              "#bd3786"
             ],
             [
              0.5555555555555556,
              "#d8576b"
             ],
             [
              0.6666666666666666,
              "#ed7953"
             ],
             [
              0.7777777777777778,
              "#fb9f3a"
             ],
             [
              0.8888888888888888,
              "#fdca26"
             ],
             [
              1,
              "#f0f921"
             ]
            ],
            "type": "heatmapgl"
           }
          ],
          "histogram": [
           {
            "marker": {
             "pattern": {
              "fillmode": "overlay",
              "size": 10,
              "solidity": 0.2
             }
            },
            "type": "histogram"
           }
          ],
          "histogram2d": [
           {
            "colorbar": {
             "outlinewidth": 0,
             "ticks": ""
            },
            "colorscale": [
             [
              0,
              "#0d0887"
             ],
             [
              0.1111111111111111,
              "#46039f"
             ],
             [
              0.2222222222222222,
              "#7201a8"
             ],
             [
              0.3333333333333333,
              "#9c179e"
             ],
             [
              0.4444444444444444,
              "#bd3786"
             ],
             [
              0.5555555555555556,
              "#d8576b"
             ],
             [
              0.6666666666666666,
              "#ed7953"
             ],
             [
              0.7777777777777778,
              "#fb9f3a"
             ],
             [
              0.8888888888888888,
              "#fdca26"
             ],
             [
              1,
              "#f0f921"
             ]
            ],
            "type": "histogram2d"
           }
          ],
          "histogram2dcontour": [
           {
            "colorbar": {
             "outlinewidth": 0,
             "ticks": ""
            },
            "colorscale": [
             [
              0,
              "#0d0887"
             ],
             [
              0.1111111111111111,
              "#46039f"
             ],
             [
              0.2222222222222222,
              "#7201a8"
             ],
             [
              0.3333333333333333,
              "#9c179e"
             ],
             [
              0.4444444444444444,
              "#bd3786"
             ],
             [
              0.5555555555555556,
              "#d8576b"
             ],
             [
              0.6666666666666666,
              "#ed7953"
             ],
             [
              0.7777777777777778,
              "#fb9f3a"
             ],
             [
              0.8888888888888888,
              "#fdca26"
             ],
             [
              1,
              "#f0f921"
             ]
            ],
            "type": "histogram2dcontour"
           }
          ],
          "mesh3d": [
           {
            "colorbar": {
             "outlinewidth": 0,
             "ticks": ""
            },
            "type": "mesh3d"
           }
          ],
          "parcoords": [
           {
            "line": {
             "colorbar": {
              "outlinewidth": 0,
              "ticks": ""
             }
            },
            "type": "parcoords"
           }
          ],
          "pie": [
           {
            "automargin": true,
            "type": "pie"
           }
          ],
          "scatter": [
           {
            "marker": {
             "colorbar": {
              "outlinewidth": 0,
              "ticks": ""
             }
            },
            "type": "scatter"
           }
          ],
          "scatter3d": [
           {
            "line": {
             "colorbar": {
              "outlinewidth": 0,
              "ticks": ""
             }
            },
            "marker": {
             "colorbar": {
              "outlinewidth": 0,
              "ticks": ""
             }
            },
            "type": "scatter3d"
           }
          ],
          "scattercarpet": [
           {
            "marker": {
             "colorbar": {
              "outlinewidth": 0,
              "ticks": ""
             }
            },
            "type": "scattercarpet"
           }
          ],
          "scattergeo": [
           {
            "marker": {
             "colorbar": {
              "outlinewidth": 0,
              "ticks": ""
             }
            },
            "type": "scattergeo"
           }
          ],
          "scattergl": [
           {
            "marker": {
             "colorbar": {
              "outlinewidth": 0,
              "ticks": ""
             }
            },
            "type": "scattergl"
           }
          ],
          "scattermapbox": [
           {
            "marker": {
             "colorbar": {
              "outlinewidth": 0,
              "ticks": ""
             }
            },
            "type": "scattermapbox"
           }
          ],
          "scatterpolar": [
           {
            "marker": {
             "colorbar": {
              "outlinewidth": 0,
              "ticks": ""
             }
            },
            "type": "scatterpolar"
           }
          ],
          "scatterpolargl": [
           {
            "marker": {
             "colorbar": {
              "outlinewidth": 0,
              "ticks": ""
             }
            },
            "type": "scatterpolargl"
           }
          ],
          "scatterternary": [
           {
            "marker": {
             "colorbar": {
              "outlinewidth": 0,
              "ticks": ""
             }
            },
            "type": "scatterternary"
           }
          ],
          "surface": [
           {
            "colorbar": {
             "outlinewidth": 0,
             "ticks": ""
            },
            "colorscale": [
             [
              0,
              "#0d0887"
             ],
             [
              0.1111111111111111,
              "#46039f"
             ],
             [
              0.2222222222222222,
              "#7201a8"
             ],
             [
              0.3333333333333333,
              "#9c179e"
             ],
             [
              0.4444444444444444,
              "#bd3786"
             ],
             [
              0.5555555555555556,
              "#d8576b"
             ],
             [
              0.6666666666666666,
              "#ed7953"
             ],
             [
              0.7777777777777778,
              "#fb9f3a"
             ],
             [
              0.8888888888888888,
              "#fdca26"
             ],
             [
              1,
              "#f0f921"
             ]
            ],
            "type": "surface"
           }
          ],
          "table": [
           {
            "cells": {
             "fill": {
              "color": "#EBF0F8"
             },
             "line": {
              "color": "white"
             }
            },
            "header": {
             "fill": {
              "color": "#C8D4E3"
             },
             "line": {
              "color": "white"
             }
            },
            "type": "table"
           }
          ]
         },
         "layout": {
          "annotationdefaults": {
           "arrowcolor": "#2a3f5f",
           "arrowhead": 0,
           "arrowwidth": 1
          },
          "autotypenumbers": "strict",
          "coloraxis": {
           "colorbar": {
            "outlinewidth": 0,
            "ticks": ""
           }
          },
          "colorscale": {
           "diverging": [
            [
             0,
             "#8e0152"
            ],
            [
             0.1,
             "#c51b7d"
            ],
            [
             0.2,
             "#de77ae"
            ],
            [
             0.3,
             "#f1b6da"
            ],
            [
             0.4,
             "#fde0ef"
            ],
            [
             0.5,
             "#f7f7f7"
            ],
            [
             0.6,
             "#e6f5d0"
            ],
            [
             0.7,
             "#b8e186"
            ],
            [
             0.8,
             "#7fbc41"
            ],
            [
             0.9,
             "#4d9221"
            ],
            [
             1,
             "#276419"
            ]
           ],
           "sequential": [
            [
             0,
             "#0d0887"
            ],
            [
             0.1111111111111111,
             "#46039f"
            ],
            [
             0.2222222222222222,
             "#7201a8"
            ],
            [
             0.3333333333333333,
             "#9c179e"
            ],
            [
             0.4444444444444444,
             "#bd3786"
            ],
            [
             0.5555555555555556,
             "#d8576b"
            ],
            [
             0.6666666666666666,
             "#ed7953"
            ],
            [
             0.7777777777777778,
             "#fb9f3a"
            ],
            [
             0.8888888888888888,
             "#fdca26"
            ],
            [
             1,
             "#f0f921"
            ]
           ],
           "sequentialminus": [
            [
             0,
             "#0d0887"
            ],
            [
             0.1111111111111111,
             "#46039f"
            ],
            [
             0.2222222222222222,
             "#7201a8"
            ],
            [
             0.3333333333333333,
             "#9c179e"
            ],
            [
             0.4444444444444444,
             "#bd3786"
            ],
            [
             0.5555555555555556,
             "#d8576b"
            ],
            [
             0.6666666666666666,
             "#ed7953"
            ],
            [
             0.7777777777777778,
             "#fb9f3a"
            ],
            [
             0.8888888888888888,
             "#fdca26"
            ],
            [
             1,
             "#f0f921"
            ]
           ]
          },
          "colorway": [
           "#636efa",
           "#EF553B",
           "#00cc96",
           "#ab63fa",
           "#FFA15A",
           "#19d3f3",
           "#FF6692",
           "#B6E880",
           "#FF97FF",
           "#FECB52"
          ],
          "font": {
           "color": "#2a3f5f"
          },
          "geo": {
           "bgcolor": "white",
           "lakecolor": "white",
           "landcolor": "#E5ECF6",
           "showlakes": true,
           "showland": true,
           "subunitcolor": "white"
          },
          "hoverlabel": {
           "align": "left"
          },
          "hovermode": "closest",
          "mapbox": {
           "style": "light"
          },
          "paper_bgcolor": "white",
          "plot_bgcolor": "#E5ECF6",
          "polar": {
           "angularaxis": {
            "gridcolor": "white",
            "linecolor": "white",
            "ticks": ""
           },
           "bgcolor": "#E5ECF6",
           "radialaxis": {
            "gridcolor": "white",
            "linecolor": "white",
            "ticks": ""
           }
          },
          "scene": {
           "xaxis": {
            "backgroundcolor": "#E5ECF6",
            "gridcolor": "white",
            "gridwidth": 2,
            "linecolor": "white",
            "showbackground": true,
            "ticks": "",
            "zerolinecolor": "white"
           },
           "yaxis": {
            "backgroundcolor": "#E5ECF6",
            "gridcolor": "white",
            "gridwidth": 2,
            "linecolor": "white",
            "showbackground": true,
            "ticks": "",
            "zerolinecolor": "white"
           },
           "zaxis": {
            "backgroundcolor": "#E5ECF6",
            "gridcolor": "white",
            "gridwidth": 2,
            "linecolor": "white",
            "showbackground": true,
            "ticks": "",
            "zerolinecolor": "white"
           }
          },
          "shapedefaults": {
           "line": {
            "color": "#2a3f5f"
           }
          },
          "ternary": {
           "aaxis": {
            "gridcolor": "white",
            "linecolor": "white",
            "ticks": ""
           },
           "baxis": {
            "gridcolor": "white",
            "linecolor": "white",
            "ticks": ""
           },
           "bgcolor": "#E5ECF6",
           "caxis": {
            "gridcolor": "white",
            "linecolor": "white",
            "ticks": ""
           }
          },
          "title": {
           "x": 0.05
          },
          "xaxis": {
           "automargin": true,
           "gridcolor": "white",
           "linecolor": "white",
           "ticks": "",
           "title": {
            "standoff": 15
           },
           "zerolinecolor": "white",
           "zerolinewidth": 2
          },
          "yaxis": {
           "automargin": true,
           "gridcolor": "white",
           "linecolor": "white",
           "ticks": "",
           "title": {
            "standoff": 15
           },
           "zerolinecolor": "white",
           "zerolinewidth": 2
          }
         }
        },
        "title": {
         "text": "Import/Export History Winter"
        },
        "xaxis": {
         "color": "#a6a6a6",
         "showgrid": false,
         "showline": false
        },
        "yaxis": {
         "color": "#a6a6a6",
         "gridcolor": "#EBECF0",
         "showgrid": true,
         "showline": false,
         "tickformat": ",.0f"
        }
       }
      },
      "text/html": [
       "<div>                            <div id=\"ab86bed3-d277-4abb-9f9e-56e97b29b337\" class=\"plotly-graph-div\" style=\"height:525px; width:100%;\"></div>            <script type=\"text/javascript\">                require([\"plotly\"], function(Plotly) {                    window.PLOTLYENV=window.PLOTLYENV || {};                                    if (document.getElementById(\"ab86bed3-d277-4abb-9f9e-56e97b29b337\")) {                    Plotly.newPlot(                        \"ab86bed3-d277-4abb-9f9e-56e97b29b337\",                        [{\"marker\":{\"color\":\"gray\"},\"name\":\"Export\",\"x\":[\"Winter<br>1989/1990\",\"Winter<br>1990/1991\",\"Winter<br>1991/1992\",\"Winter<br>1992/1993\",\"Winter<br>1993/1994\",\"Winter<br>1994/1995\",\"Winter<br>1995/1996\",\"Winter<br>1996/1997\",\"Winter<br>1997/1998\",\"Winter<br>1998/1999\",\"Winter<br>1999/2000\",\"Winter<br>2000/2001\",\"Winter<br>2001/2002\",\"Winter<br>2002/2003\",\"Winter<br>2003/2004\",\"Winter<br>2004/2005\",\"Winter<br>2005/2006\",\"Winter<br>2006/2007\",\"Winter<br>2007/2008\",\"Winter<br>2008/2009\",\"Winter<br>2009/2010\",\"Winter<br>2010/2011\",\"Winter<br>2011/2012\",\"Winter<br>2012/2013\",\"Winter<br>2013/2014\",\"Winter<br>2014/2015\",\"Winter<br>2015/2016\",\"Winter<br>2016/2017\",\"Winter<br>2017/2018\",\"Winter<br>2018/2019\",\"Winter<br>2019/2020\",\"Winter<br>2020/2021\",\"Winter<br>2021/2022\"],\"y\":[5815,12646,12068,12824,16009,17225,17730,17687,20147,21435,20569,16292,16889,16108,14227,15674,13186,18435,16478,15559,15340,16295,17547,16638,17293,18463,18119,12098,16815,15812,18195,15924,8173],\"type\":\"bar\"},{\"marker\":{\"color\":\"red\"},\"name\":\"Import\",\"x\":[32,33,34,35,36,37,38,39,40,41,42,43,44,45,46,47,48,49,50,51,52,53,54,55,56,57,58,59,60,61,62,63,64],\"y\":[-6624,-13229,-12850,-12879,-13209,-14735,-18756,-17989,-20450,-21414,-18685,-13991,-18759,-16091,-17983,-18532,-20117,-22084,-20907,-19931,-20476,-20537,-21338,-19077,-18863,-18988,-23166,-21852,-23533,-20365,-17726,-17739,-13665],\"type\":\"bar\"},{\"line\":{\"width\":3,\"color\":\"#000000\"},\"mode\":\"lines\",\"name\":\"Balance\",\"showlegend\":false,\"x\":[\"Winter<br>1989/1990\",\"Winter<br>1990/1991\",\"Winter<br>1991/1992\",\"Winter<br>1992/1993\",\"Winter<br>1993/1994\",\"Winter<br>1994/1995\",\"Winter<br>1995/1996\",\"Winter<br>1996/1997\",\"Winter<br>1997/1998\",\"Winter<br>1998/1999\",\"Winter<br>1999/2000\",\"Winter<br>2000/2001\",\"Winter<br>2001/2002\",\"Winter<br>2002/2003\",\"Winter<br>2003/2004\",\"Winter<br>2004/2005\",\"Winter<br>2005/2006\",\"Winter<br>2006/2007\",\"Winter<br>2007/2008\",\"Winter<br>2008/2009\",\"Winter<br>2009/2010\",\"Winter<br>2010/2011\",\"Winter<br>2011/2012\",\"Winter<br>2012/2013\",\"Winter<br>2013/2014\",\"Winter<br>2014/2015\",\"Winter<br>2015/2016\",\"Winter<br>2016/2017\",\"Winter<br>2017/2018\",\"Winter<br>2018/2019\",\"Winter<br>2019/2020\",\"Winter<br>2020/2021\",\"Winter<br>2021/2022\"],\"y\":[-809,-583,-782,-55,2800,2490,-1026,-302,-303,21,1884,2301,-1870,17,-3756,-2858,-6931,-3649,-4429,-4372,-5136,-4242,-3791,-2439,-1570,-525,-5047,-9754,-6718,-4553,469,-1815,-5492],\"type\":\"scatter\"}],                        {\"barmode\":\"relative\",\"legend\":{\"orientation\":\"h\"},\"margin\":{\"b\":10,\"pad\":10,\"r\":250},\"plot_bgcolor\":\"#ffffff\",\"separators\":\",'\",\"showlegend\":true,\"title\":{\"text\":\"Import/Export History Winter\"},\"xaxis\":{\"color\":\"#a6a6a6\",\"showgrid\":false,\"showline\":false},\"yaxis\":{\"color\":\"#a6a6a6\",\"gridcolor\":\"#EBECF0\",\"showgrid\":true,\"showline\":false,\"tickformat\":\",.0f\"},\"template\":{\"data\":{\"bar\":[{\"error_x\":{\"color\":\"#2a3f5f\"},\"error_y\":{\"color\":\"#2a3f5f\"},\"marker\":{\"line\":{\"color\":\"#E5ECF6\",\"width\":0.5},\"pattern\":{\"fillmode\":\"overlay\",\"size\":10,\"solidity\":0.2}},\"type\":\"bar\"}],\"barpolar\":[{\"marker\":{\"line\":{\"color\":\"#E5ECF6\",\"width\":0.5},\"pattern\":{\"fillmode\":\"overlay\",\"size\":10,\"solidity\":0.2}},\"type\":\"barpolar\"}],\"carpet\":[{\"aaxis\":{\"endlinecolor\":\"#2a3f5f\",\"gridcolor\":\"white\",\"linecolor\":\"white\",\"minorgridcolor\":\"white\",\"startlinecolor\":\"#2a3f5f\"},\"baxis\":{\"endlinecolor\":\"#2a3f5f\",\"gridcolor\":\"white\",\"linecolor\":\"white\",\"minorgridcolor\":\"white\",\"startlinecolor\":\"#2a3f5f\"},\"type\":\"carpet\"}],\"choropleth\":[{\"colorbar\":{\"outlinewidth\":0,\"ticks\":\"\"},\"type\":\"choropleth\"}],\"contour\":[{\"colorbar\":{\"outlinewidth\":0,\"ticks\":\"\"},\"colorscale\":[[0.0,\"#0d0887\"],[0.1111111111111111,\"#46039f\"],[0.2222222222222222,\"#7201a8\"],[0.3333333333333333,\"#9c179e\"],[0.4444444444444444,\"#bd3786\"],[0.5555555555555556,\"#d8576b\"],[0.6666666666666666,\"#ed7953\"],[0.7777777777777778,\"#fb9f3a\"],[0.8888888888888888,\"#fdca26\"],[1.0,\"#f0f921\"]],\"type\":\"contour\"}],\"contourcarpet\":[{\"colorbar\":{\"outlinewidth\":0,\"ticks\":\"\"},\"type\":\"contourcarpet\"}],\"heatmap\":[{\"colorbar\":{\"outlinewidth\":0,\"ticks\":\"\"},\"colorscale\":[[0.0,\"#0d0887\"],[0.1111111111111111,\"#46039f\"],[0.2222222222222222,\"#7201a8\"],[0.3333333333333333,\"#9c179e\"],[0.4444444444444444,\"#bd3786\"],[0.5555555555555556,\"#d8576b\"],[0.6666666666666666,\"#ed7953\"],[0.7777777777777778,\"#fb9f3a\"],[0.8888888888888888,\"#fdca26\"],[1.0,\"#f0f921\"]],\"type\":\"heatmap\"}],\"heatmapgl\":[{\"colorbar\":{\"outlinewidth\":0,\"ticks\":\"\"},\"colorscale\":[[0.0,\"#0d0887\"],[0.1111111111111111,\"#46039f\"],[0.2222222222222222,\"#7201a8\"],[0.3333333333333333,\"#9c179e\"],[0.4444444444444444,\"#bd3786\"],[0.5555555555555556,\"#d8576b\"],[0.6666666666666666,\"#ed7953\"],[0.7777777777777778,\"#fb9f3a\"],[0.8888888888888888,\"#fdca26\"],[1.0,\"#f0f921\"]],\"type\":\"heatmapgl\"}],\"histogram\":[{\"marker\":{\"pattern\":{\"fillmode\":\"overlay\",\"size\":10,\"solidity\":0.2}},\"type\":\"histogram\"}],\"histogram2d\":[{\"colorbar\":{\"outlinewidth\":0,\"ticks\":\"\"},\"colorscale\":[[0.0,\"#0d0887\"],[0.1111111111111111,\"#46039f\"],[0.2222222222222222,\"#7201a8\"],[0.3333333333333333,\"#9c179e\"],[0.4444444444444444,\"#bd3786\"],[0.5555555555555556,\"#d8576b\"],[0.6666666666666666,\"#ed7953\"],[0.7777777777777778,\"#fb9f3a\"],[0.8888888888888888,\"#fdca26\"],[1.0,\"#f0f921\"]],\"type\":\"histogram2d\"}],\"histogram2dcontour\":[{\"colorbar\":{\"outlinewidth\":0,\"ticks\":\"\"},\"colorscale\":[[0.0,\"#0d0887\"],[0.1111111111111111,\"#46039f\"],[0.2222222222222222,\"#7201a8\"],[0.3333333333333333,\"#9c179e\"],[0.4444444444444444,\"#bd3786\"],[0.5555555555555556,\"#d8576b\"],[0.6666666666666666,\"#ed7953\"],[0.7777777777777778,\"#fb9f3a\"],[0.8888888888888888,\"#fdca26\"],[1.0,\"#f0f921\"]],\"type\":\"histogram2dcontour\"}],\"mesh3d\":[{\"colorbar\":{\"outlinewidth\":0,\"ticks\":\"\"},\"type\":\"mesh3d\"}],\"parcoords\":[{\"line\":{\"colorbar\":{\"outlinewidth\":0,\"ticks\":\"\"}},\"type\":\"parcoords\"}],\"pie\":[{\"automargin\":true,\"type\":\"pie\"}],\"scatter\":[{\"marker\":{\"colorbar\":{\"outlinewidth\":0,\"ticks\":\"\"}},\"type\":\"scatter\"}],\"scatter3d\":[{\"line\":{\"colorbar\":{\"outlinewidth\":0,\"ticks\":\"\"}},\"marker\":{\"colorbar\":{\"outlinewidth\":0,\"ticks\":\"\"}},\"type\":\"scatter3d\"}],\"scattercarpet\":[{\"marker\":{\"colorbar\":{\"outlinewidth\":0,\"ticks\":\"\"}},\"type\":\"scattercarpet\"}],\"scattergeo\":[{\"marker\":{\"colorbar\":{\"outlinewidth\":0,\"ticks\":\"\"}},\"type\":\"scattergeo\"}],\"scattergl\":[{\"marker\":{\"colorbar\":{\"outlinewidth\":0,\"ticks\":\"\"}},\"type\":\"scattergl\"}],\"scattermapbox\":[{\"marker\":{\"colorbar\":{\"outlinewidth\":0,\"ticks\":\"\"}},\"type\":\"scattermapbox\"}],\"scatterpolar\":[{\"marker\":{\"colorbar\":{\"outlinewidth\":0,\"ticks\":\"\"}},\"type\":\"scatterpolar\"}],\"scatterpolargl\":[{\"marker\":{\"colorbar\":{\"outlinewidth\":0,\"ticks\":\"\"}},\"type\":\"scatterpolargl\"}],\"scatterternary\":[{\"marker\":{\"colorbar\":{\"outlinewidth\":0,\"ticks\":\"\"}},\"type\":\"scatterternary\"}],\"surface\":[{\"colorbar\":{\"outlinewidth\":0,\"ticks\":\"\"},\"colorscale\":[[0.0,\"#0d0887\"],[0.1111111111111111,\"#46039f\"],[0.2222222222222222,\"#7201a8\"],[0.3333333333333333,\"#9c179e\"],[0.4444444444444444,\"#bd3786\"],[0.5555555555555556,\"#d8576b\"],[0.6666666666666666,\"#ed7953\"],[0.7777777777777778,\"#fb9f3a\"],[0.8888888888888888,\"#fdca26\"],[1.0,\"#f0f921\"]],\"type\":\"surface\"}],\"table\":[{\"cells\":{\"fill\":{\"color\":\"#EBF0F8\"},\"line\":{\"color\":\"white\"}},\"header\":{\"fill\":{\"color\":\"#C8D4E3\"},\"line\":{\"color\":\"white\"}},\"type\":\"table\"}]},\"layout\":{\"annotationdefaults\":{\"arrowcolor\":\"#2a3f5f\",\"arrowhead\":0,\"arrowwidth\":1},\"autotypenumbers\":\"strict\",\"coloraxis\":{\"colorbar\":{\"outlinewidth\":0,\"ticks\":\"\"}},\"colorscale\":{\"diverging\":[[0,\"#8e0152\"],[0.1,\"#c51b7d\"],[0.2,\"#de77ae\"],[0.3,\"#f1b6da\"],[0.4,\"#fde0ef\"],[0.5,\"#f7f7f7\"],[0.6,\"#e6f5d0\"],[0.7,\"#b8e186\"],[0.8,\"#7fbc41\"],[0.9,\"#4d9221\"],[1,\"#276419\"]],\"sequential\":[[0.0,\"#0d0887\"],[0.1111111111111111,\"#46039f\"],[0.2222222222222222,\"#7201a8\"],[0.3333333333333333,\"#9c179e\"],[0.4444444444444444,\"#bd3786\"],[0.5555555555555556,\"#d8576b\"],[0.6666666666666666,\"#ed7953\"],[0.7777777777777778,\"#fb9f3a\"],[0.8888888888888888,\"#fdca26\"],[1.0,\"#f0f921\"]],\"sequentialminus\":[[0.0,\"#0d0887\"],[0.1111111111111111,\"#46039f\"],[0.2222222222222222,\"#7201a8\"],[0.3333333333333333,\"#9c179e\"],[0.4444444444444444,\"#bd3786\"],[0.5555555555555556,\"#d8576b\"],[0.6666666666666666,\"#ed7953\"],[0.7777777777777778,\"#fb9f3a\"],[0.8888888888888888,\"#fdca26\"],[1.0,\"#f0f921\"]]},\"colorway\":[\"#636efa\",\"#EF553B\",\"#00cc96\",\"#ab63fa\",\"#FFA15A\",\"#19d3f3\",\"#FF6692\",\"#B6E880\",\"#FF97FF\",\"#FECB52\"],\"font\":{\"color\":\"#2a3f5f\"},\"geo\":{\"bgcolor\":\"white\",\"lakecolor\":\"white\",\"landcolor\":\"#E5ECF6\",\"showlakes\":true,\"showland\":true,\"subunitcolor\":\"white\"},\"hoverlabel\":{\"align\":\"left\"},\"hovermode\":\"closest\",\"mapbox\":{\"style\":\"light\"},\"paper_bgcolor\":\"white\",\"plot_bgcolor\":\"#E5ECF6\",\"polar\":{\"angularaxis\":{\"gridcolor\":\"white\",\"linecolor\":\"white\",\"ticks\":\"\"},\"bgcolor\":\"#E5ECF6\",\"radialaxis\":{\"gridcolor\":\"white\",\"linecolor\":\"white\",\"ticks\":\"\"}},\"scene\":{\"xaxis\":{\"backgroundcolor\":\"#E5ECF6\",\"gridcolor\":\"white\",\"gridwidth\":2,\"linecolor\":\"white\",\"showbackground\":true,\"ticks\":\"\",\"zerolinecolor\":\"white\"},\"yaxis\":{\"backgroundcolor\":\"#E5ECF6\",\"gridcolor\":\"white\",\"gridwidth\":2,\"linecolor\":\"white\",\"showbackground\":true,\"ticks\":\"\",\"zerolinecolor\":\"white\"},\"zaxis\":{\"backgroundcolor\":\"#E5ECF6\",\"gridcolor\":\"white\",\"gridwidth\":2,\"linecolor\":\"white\",\"showbackground\":true,\"ticks\":\"\",\"zerolinecolor\":\"white\"}},\"shapedefaults\":{\"line\":{\"color\":\"#2a3f5f\"}},\"ternary\":{\"aaxis\":{\"gridcolor\":\"white\",\"linecolor\":\"white\",\"ticks\":\"\"},\"baxis\":{\"gridcolor\":\"white\",\"linecolor\":\"white\",\"ticks\":\"\"},\"bgcolor\":\"#E5ECF6\",\"caxis\":{\"gridcolor\":\"white\",\"linecolor\":\"white\",\"ticks\":\"\"}},\"title\":{\"x\":0.05},\"xaxis\":{\"automargin\":true,\"gridcolor\":\"white\",\"linecolor\":\"white\",\"ticks\":\"\",\"title\":{\"standoff\":15},\"zerolinecolor\":\"white\",\"zerolinewidth\":2},\"yaxis\":{\"automargin\":true,\"gridcolor\":\"white\",\"linecolor\":\"white\",\"ticks\":\"\",\"title\":{\"standoff\":15},\"zerolinecolor\":\"white\",\"zerolinewidth\":2}}},\"annotations\":[{\"font\":{\"color\":\"black\",\"size\":14},\"showarrow\":false,\"text\":\"<b>Balance</b>\",\"textangle\":0,\"x\":1,\"xanchor\":\"left\",\"xref\":\"paper\",\"y\":-5492,\"yshift\":2}]},                        {\"displayModeBar\": true, \"responsive\": true}                    ).then(function(){\n",
       "                            \n",
       "var gd = document.getElementById('ab86bed3-d277-4abb-9f9e-56e97b29b337');\n",
       "var x = new MutationObserver(function (mutations, observer) {{\n",
       "        var display = window.getComputedStyle(gd).display;\n",
       "        if (!display || display === 'none') {{\n",
       "            console.log([gd, 'removed!']);\n",
       "            Plotly.purge(gd);\n",
       "            observer.disconnect();\n",
       "        }}\n",
       "}});\n",
       "\n",
       "// Listen for the removal of the full notebook cells\n",
       "var notebookContainer = gd.closest('#notebook-container');\n",
       "if (notebookContainer) {{\n",
       "    x.observe(notebookContainer, {childList: true});\n",
       "}}\n",
       "\n",
       "// Listen for the clearing of the current output cell\n",
       "var outputEl = gd.closest('.output');\n",
       "if (outputEl) {{\n",
       "    x.observe(outputEl, {childList: true});\n",
       "}}\n",
       "\n",
       "                        })                };                });            </script>        </div>"
      ]
     },
     "metadata": {},
     "output_type": "display_data"
    }
   ],
   "source": [
    "electricity_export = {\n",
    "    'name': 'Export',\n",
    "    'type': 'bar',\n",
    "    'x': df_winter['year_season'],\n",
    "    'y': df_winter['export'],\n",
    "    'marker': {\n",
    "        'color': 'gray'\n",
    "    },\n",
    "}\n",
    "\n",
    "electricity_import = {\n",
    "    'name': 'Import',\n",
    "    'type': 'bar',\n",
    "    'x': df_winter['year_season'],\n",
    "    'y': df_winter['import_minus'],\n",
    "    'marker': {\n",
    "        'color': 'red'\n",
    "    },\n",
    "}\n",
    "\n",
    "balance = {\n",
    "    'name': 'Balance',\n",
    "    'x': df_winter['year_season'],\n",
    "    'y': df_winter['import_export_balance'],\n",
    "    'mode': 'lines',\n",
    "    'line_color': '#000000',\n",
    "    'line': {\n",
    "        'width': 3\n",
    "    },\n",
    "    'showlegend': False\n",
    "} \n",
    "\n",
    "layout = {\n",
    "    'title': 'Import/Export History Winter',\n",
    "    'plot_bgcolor': '#ffffff',\n",
    "    'showlegend': True,\n",
    "    'legend': {\n",
    "        'orientation': 'h'\n",
    "    },\n",
    "    'barmode': 'relative',\n",
    "    'margin': {\n",
    "        'r': 250,\n",
    "        'b': 10,\n",
    "        'pad': 10\n",
    "    },\n",
    "    'xaxis': {\n",
    "        'showgrid': False,\n",
    "        'showline': False,\n",
    "        'color': '#a6a6a6'\n",
    "    },\n",
    "    'yaxis': {\n",
    "        'showgrid': True,\n",
    "        'tickformat': ',.0f',\n",
    "        'gridcolor': '#EBECF0',\n",
    "        'showline': False,\n",
    "        'color': '#a6a6a6'\n",
    "    },\n",
    "    'separators': ',\\''\n",
    "}\n",
    "config = {'displayModeBar': True}\n",
    "\n",
    "figdict = {\n",
    "    'data': [electricity_export, electricity_import, balance], \n",
    "    'layout': layout\n",
    "}\n",
    "\n",
    "\n",
    "\n",
    "fig = go.Figure(figdict)\n",
    "fig.add_annotation(\n",
    "    dict(\n",
    "        font=dict(color=\"black\", size=14),\n",
    "        x=1,\n",
    "        y=df_winter.import_export_balance.iloc[-1],\n",
    "        textangle=0,\n",
    "        xanchor='left',\n",
    "        showarrow=False,\n",
    "        text='<b>Balance</b>',\n",
    "        yshift=2,\n",
    "        xref='paper'\n",
    "    )\n",
    ")\n",
    "\n",
    "fig.show(config=config)"
   ]
  },
  {
   "cell_type": "code",
   "execution_count": 35,
   "id": "0e4f3b46",
   "metadata": {},
   "outputs": [
    {
     "data": {
      "text/html": [
       "<div>\n",
       "<style scoped>\n",
       "    .dataframe tbody tr th:only-of-type {\n",
       "        vertical-align: middle;\n",
       "    }\n",
       "\n",
       "    .dataframe tbody tr th {\n",
       "        vertical-align: top;\n",
       "    }\n",
       "\n",
       "    .dataframe thead th {\n",
       "        text-align: right;\n",
       "    }\n",
       "</style>\n",
       "<table border=\"1\" class=\"dataframe\">\n",
       "  <thead>\n",
       "    <tr style=\"text-align: right;\">\n",
       "      <th></th>\n",
       "      <th>year_season</th>\n",
       "      <th>month_in_season</th>\n",
       "      <th>year</th>\n",
       "      <th>month</th>\n",
       "      <th>production_hydro</th>\n",
       "      <th>production_nuclear</th>\n",
       "      <th>production_therm_and_renewable</th>\n",
       "      <th>production_total</th>\n",
       "      <th>production_hydro_losses</th>\n",
       "      <th>production_total_netto</th>\n",
       "      <th>import</th>\n",
       "      <th>export</th>\n",
       "      <th>consumption_country</th>\n",
       "      <th>losses</th>\n",
       "      <th>consumation_final</th>\n",
       "      <th>import_export_balance</th>\n",
       "      <th>import_minus</th>\n",
       "    </tr>\n",
       "  </thead>\n",
       "  <tbody>\n",
       "    <tr>\n",
       "      <th>0</th>\n",
       "      <td>Summer&lt;br&gt;1990</td>\n",
       "      <td>21</td>\n",
       "      <td>11940</td>\n",
       "      <td>39</td>\n",
       "      <td>17508</td>\n",
       "      <td>9566</td>\n",
       "      <td>363</td>\n",
       "      <td>27437</td>\n",
       "      <td>1321</td>\n",
       "      <td>26116</td>\n",
       "      <td>9686</td>\n",
       "      <td>12955</td>\n",
       "      <td>22847</td>\n",
       "      <td>1712</td>\n",
       "      <td>21135</td>\n",
       "      <td>3269</td>\n",
       "      <td>-9686</td>\n",
       "    </tr>\n",
       "    <tr>\n",
       "      <th>1</th>\n",
       "      <td>Summer&lt;br&gt;1991</td>\n",
       "      <td>21</td>\n",
       "      <td>11946</td>\n",
       "      <td>39</td>\n",
       "      <td>18370</td>\n",
       "      <td>8895</td>\n",
       "      <td>456</td>\n",
       "      <td>27721</td>\n",
       "      <td>1559</td>\n",
       "      <td>26162</td>\n",
       "      <td>11093</td>\n",
       "      <td>13994</td>\n",
       "      <td>23261</td>\n",
       "      <td>1733</td>\n",
       "      <td>21528</td>\n",
       "      <td>2901</td>\n",
       "      <td>-11093</td>\n",
       "    </tr>\n",
       "    <tr>\n",
       "      <th>2</th>\n",
       "      <td>Summer&lt;br&gt;1992</td>\n",
       "      <td>21</td>\n",
       "      <td>11952</td>\n",
       "      <td>39</td>\n",
       "      <td>19574</td>\n",
       "      <td>9364</td>\n",
       "      <td>398</td>\n",
       "      <td>29336</td>\n",
       "      <td>1114</td>\n",
       "      <td>28222</td>\n",
       "      <td>9457</td>\n",
       "      <td>14482</td>\n",
       "      <td>23197</td>\n",
       "      <td>1723</td>\n",
       "      <td>21474</td>\n",
       "      <td>5025</td>\n",
       "      <td>-9457</td>\n",
       "    </tr>\n",
       "    <tr>\n",
       "      <th>3</th>\n",
       "      <td>Summer&lt;br&gt;1993</td>\n",
       "      <td>21</td>\n",
       "      <td>11958</td>\n",
       "      <td>39</td>\n",
       "      <td>19792</td>\n",
       "      <td>9149</td>\n",
       "      <td>397</td>\n",
       "      <td>29338</td>\n",
       "      <td>967</td>\n",
       "      <td>28371</td>\n",
       "      <td>10341</td>\n",
       "      <td>15847</td>\n",
       "      <td>22865</td>\n",
       "      <td>1692</td>\n",
       "      <td>21173</td>\n",
       "      <td>5506</td>\n",
       "      <td>-10341</td>\n",
       "    </tr>\n",
       "    <tr>\n",
       "      <th>4</th>\n",
       "      <td>Summer&lt;br&gt;1994</td>\n",
       "      <td>21</td>\n",
       "      <td>11964</td>\n",
       "      <td>39</td>\n",
       "      <td>23183</td>\n",
       "      <td>9827</td>\n",
       "      <td>424</td>\n",
       "      <td>33434</td>\n",
       "      <td>1038</td>\n",
       "      <td>32396</td>\n",
       "      <td>9144</td>\n",
       "      <td>18240</td>\n",
       "      <td>23300</td>\n",
       "      <td>1717</td>\n",
       "      <td>21583</td>\n",
       "      <td>9096</td>\n",
       "      <td>-9144</td>\n",
       "    </tr>\n",
       "    <tr>\n",
       "      <th>5</th>\n",
       "      <td>Summer&lt;br&gt;1995</td>\n",
       "      <td>21</td>\n",
       "      <td>11970</td>\n",
       "      <td>39</td>\n",
       "      <td>20500</td>\n",
       "      <td>10081</td>\n",
       "      <td>446</td>\n",
       "      <td>31027</td>\n",
       "      <td>1178</td>\n",
       "      <td>29849</td>\n",
       "      <td>11727</td>\n",
       "      <td>18152</td>\n",
       "      <td>23424</td>\n",
       "      <td>1711</td>\n",
       "      <td>21713</td>\n",
       "      <td>6425</td>\n",
       "      <td>-11727</td>\n",
       "    </tr>\n",
       "    <tr>\n",
       "      <th>6</th>\n",
       "      <td>Summer&lt;br&gt;1996</td>\n",
       "      <td>21</td>\n",
       "      <td>11976</td>\n",
       "      <td>39</td>\n",
       "      <td>16116</td>\n",
       "      <td>10478</td>\n",
       "      <td>642</td>\n",
       "      <td>27236</td>\n",
       "      <td>1279</td>\n",
       "      <td>25957</td>\n",
       "      <td>14660</td>\n",
       "      <td>17155</td>\n",
       "      <td>23462</td>\n",
       "      <td>1708</td>\n",
       "      <td>21754</td>\n",
       "      <td>2495</td>\n",
       "      <td>-14660</td>\n",
       "    </tr>\n",
       "    <tr>\n",
       "      <th>7</th>\n",
       "      <td>Summer&lt;br&gt;1997</td>\n",
       "      <td>21</td>\n",
       "      <td>11982</td>\n",
       "      <td>39</td>\n",
       "      <td>20108</td>\n",
       "      <td>10885</td>\n",
       "      <td>729</td>\n",
       "      <td>31722</td>\n",
       "      <td>1232</td>\n",
       "      <td>30490</td>\n",
       "      <td>12204</td>\n",
       "      <td>18956</td>\n",
       "      <td>23738</td>\n",
       "      <td>1726</td>\n",
       "      <td>22012</td>\n",
       "      <td>6752</td>\n",
       "      <td>-12204</td>\n",
       "    </tr>\n",
       "    <tr>\n",
       "      <th>8</th>\n",
       "      <td>Summer&lt;br&gt;1998</td>\n",
       "      <td>21</td>\n",
       "      <td>11988</td>\n",
       "      <td>39</td>\n",
       "      <td>19348</td>\n",
       "      <td>10882</td>\n",
       "      <td>923</td>\n",
       "      <td>31153</td>\n",
       "      <td>1328</td>\n",
       "      <td>29825</td>\n",
       "      <td>16553</td>\n",
       "      <td>22109</td>\n",
       "      <td>24269</td>\n",
       "      <td>1749</td>\n",
       "      <td>22520</td>\n",
       "      <td>5556</td>\n",
       "      <td>-16553</td>\n",
       "    </tr>\n",
       "    <tr>\n",
       "      <th>9</th>\n",
       "      <td>Summer&lt;br&gt;1999</td>\n",
       "      <td>21</td>\n",
       "      <td>11994</td>\n",
       "      <td>39</td>\n",
       "      <td>23444</td>\n",
       "      <td>10156</td>\n",
       "      <td>1138</td>\n",
       "      <td>34738</td>\n",
       "      <td>1109</td>\n",
       "      <td>33629</td>\n",
       "      <td>14690</td>\n",
       "      <td>23507</td>\n",
       "      <td>24812</td>\n",
       "      <td>1785</td>\n",
       "      <td>23027</td>\n",
       "      <td>8817</td>\n",
       "      <td>-14690</td>\n",
       "    </tr>\n",
       "    <tr>\n",
       "      <th>10</th>\n",
       "      <td>Summer&lt;br&gt;2000</td>\n",
       "      <td>21</td>\n",
       "      <td>12000</td>\n",
       "      <td>39</td>\n",
       "      <td>20674</td>\n",
       "      <td>11006</td>\n",
       "      <td>1182</td>\n",
       "      <td>32862</td>\n",
       "      <td>1414</td>\n",
       "      <td>31448</td>\n",
       "      <td>9930</td>\n",
       "      <td>15604</td>\n",
       "      <td>25774</td>\n",
       "      <td>1853</td>\n",
       "      <td>23921</td>\n",
       "      <td>5674</td>\n",
       "      <td>-9930</td>\n",
       "    </tr>\n",
       "    <tr>\n",
       "      <th>11</th>\n",
       "      <td>Summer&lt;br&gt;2001</td>\n",
       "      <td>21</td>\n",
       "      <td>12006</td>\n",
       "      <td>39</td>\n",
       "      <td>24992</td>\n",
       "      <td>11394</td>\n",
       "      <td>1221</td>\n",
       "      <td>37607</td>\n",
       "      <td>1338</td>\n",
       "      <td>36269</td>\n",
       "      <td>7918</td>\n",
       "      <td>17567</td>\n",
       "      <td>26620</td>\n",
       "      <td>1915</td>\n",
       "      <td>24705</td>\n",
       "      <td>9649</td>\n",
       "      <td>-7918</td>\n",
       "    </tr>\n",
       "    <tr>\n",
       "      <th>12</th>\n",
       "      <td>Summer&lt;br&gt;2002</td>\n",
       "      <td>21</td>\n",
       "      <td>12012</td>\n",
       "      <td>39</td>\n",
       "      <td>21414</td>\n",
       "      <td>11672</td>\n",
       "      <td>1291</td>\n",
       "      <td>34377</td>\n",
       "      <td>1554</td>\n",
       "      <td>32823</td>\n",
       "      <td>10728</td>\n",
       "      <td>16730</td>\n",
       "      <td>26821</td>\n",
       "      <td>1930</td>\n",
       "      <td>24891</td>\n",
       "      <td>6002</td>\n",
       "      <td>-10728</td>\n",
       "    </tr>\n",
       "    <tr>\n",
       "      <th>13</th>\n",
       "      <td>Summer&lt;br&gt;2003</td>\n",
       "      <td>21</td>\n",
       "      <td>12018</td>\n",
       "      <td>39</td>\n",
       "      <td>21067</td>\n",
       "      <td>11863</td>\n",
       "      <td>1391</td>\n",
       "      <td>34321</td>\n",
       "      <td>1828</td>\n",
       "      <td>32493</td>\n",
       "      <td>12136</td>\n",
       "      <td>17517</td>\n",
       "      <td>27112</td>\n",
       "      <td>1951</td>\n",
       "      <td>25161</td>\n",
       "      <td>5381</td>\n",
       "      <td>-12136</td>\n",
       "    </tr>\n",
       "    <tr>\n",
       "      <th>14</th>\n",
       "      <td>Summer&lt;br&gt;2004</td>\n",
       "      <td>21</td>\n",
       "      <td>12024</td>\n",
       "      <td>39</td>\n",
       "      <td>20176</td>\n",
       "      <td>11314</td>\n",
       "      <td>1405</td>\n",
       "      <td>32895</td>\n",
       "      <td>1610</td>\n",
       "      <td>31285</td>\n",
       "      <td>10084</td>\n",
       "      <td>13812</td>\n",
       "      <td>27557</td>\n",
       "      <td>1982</td>\n",
       "      <td>25575</td>\n",
       "      <td>3728</td>\n",
       "      <td>-10084</td>\n",
       "    </tr>\n",
       "    <tr>\n",
       "      <th>15</th>\n",
       "      <td>Summer&lt;br&gt;2005</td>\n",
       "      <td>21</td>\n",
       "      <td>12030</td>\n",
       "      <td>39</td>\n",
       "      <td>18779</td>\n",
       "      <td>7967</td>\n",
       "      <td>1488</td>\n",
       "      <td>28234</td>\n",
       "      <td>1731</td>\n",
       "      <td>26503</td>\n",
       "      <td>17472</td>\n",
       "      <td>15810</td>\n",
       "      <td>28165</td>\n",
       "      <td>2028</td>\n",
       "      <td>26137</td>\n",
       "      <td>-1662</td>\n",
       "      <td>-17472</td>\n",
       "    </tr>\n",
       "    <tr>\n",
       "      <th>16</th>\n",
       "      <td>Summer&lt;br&gt;2006</td>\n",
       "      <td>21</td>\n",
       "      <td>12036</td>\n",
       "      <td>39</td>\n",
       "      <td>19085</td>\n",
       "      <td>12083</td>\n",
       "      <td>1579</td>\n",
       "      <td>32747</td>\n",
       "      <td>1735</td>\n",
       "      <td>31012</td>\n",
       "      <td>13621</td>\n",
       "      <td>16270</td>\n",
       "      <td>28363</td>\n",
       "      <td>2043</td>\n",
       "      <td>26320</td>\n",
       "      <td>2649</td>\n",
       "      <td>-13621</td>\n",
       "    </tr>\n",
       "    <tr>\n",
       "      <th>17</th>\n",
       "      <td>Summer&lt;br&gt;2007</td>\n",
       "      <td>21</td>\n",
       "      <td>12042</td>\n",
       "      <td>39</td>\n",
       "      <td>21815</td>\n",
       "      <td>12305</td>\n",
       "      <td>1511</td>\n",
       "      <td>35631</td>\n",
       "      <td>1292</td>\n",
       "      <td>34339</td>\n",
       "      <td>13042</td>\n",
       "      <td>19089</td>\n",
       "      <td>28292</td>\n",
       "      <td>2039</td>\n",
       "      <td>26253</td>\n",
       "      <td>6047</td>\n",
       "      <td>-13042</td>\n",
       "    </tr>\n",
       "    <tr>\n",
       "      <th>18</th>\n",
       "      <td>Summer&lt;br&gt;2008</td>\n",
       "      <td>21</td>\n",
       "      <td>12048</td>\n",
       "      <td>39</td>\n",
       "      <td>22975</td>\n",
       "      <td>11916</td>\n",
       "      <td>1614</td>\n",
       "      <td>36505</td>\n",
       "      <td>1671</td>\n",
       "      <td>34834</td>\n",
       "      <td>11302</td>\n",
       "      <td>16882</td>\n",
       "      <td>29254</td>\n",
       "      <td>2111</td>\n",
       "      <td>27143</td>\n",
       "      <td>5580</td>\n",
       "      <td>-11302</td>\n",
       "    </tr>\n",
       "    <tr>\n",
       "      <th>19</th>\n",
       "      <td>Summer&lt;br&gt;2009</td>\n",
       "      <td>21</td>\n",
       "      <td>12054</td>\n",
       "      <td>39</td>\n",
       "      <td>23213</td>\n",
       "      <td>11950</td>\n",
       "      <td>1576</td>\n",
       "      <td>36739</td>\n",
       "      <td>1533</td>\n",
       "      <td>35206</td>\n",
       "      <td>11005</td>\n",
       "      <td>18348</td>\n",
       "      <td>27863</td>\n",
       "      <td>2010</td>\n",
       "      <td>25853</td>\n",
       "      <td>7343</td>\n",
       "      <td>-11005</td>\n",
       "    </tr>\n",
       "    <tr>\n",
       "      <th>20</th>\n",
       "      <td>Summer&lt;br&gt;2010</td>\n",
       "      <td>21</td>\n",
       "      <td>12060</td>\n",
       "      <td>39</td>\n",
       "      <td>21256</td>\n",
       "      <td>10960</td>\n",
       "      <td>1778</td>\n",
       "      <td>33994</td>\n",
       "      <td>1602</td>\n",
       "      <td>32392</td>\n",
       "      <td>13532</td>\n",
       "      <td>16757</td>\n",
       "      <td>29167</td>\n",
       "      <td>2104</td>\n",
       "      <td>27063</td>\n",
       "      <td>3225</td>\n",
       "      <td>-13532</td>\n",
       "    </tr>\n",
       "    <tr>\n",
       "      <th>21</th>\n",
       "      <td>Summer&lt;br&gt;2011</td>\n",
       "      <td>21</td>\n",
       "      <td>12066</td>\n",
       "      <td>39</td>\n",
       "      <td>19049</td>\n",
       "      <td>11322</td>\n",
       "      <td>1676</td>\n",
       "      <td>32047</td>\n",
       "      <td>1645</td>\n",
       "      <td>30402</td>\n",
       "      <td>13323</td>\n",
       "      <td>15132</td>\n",
       "      <td>28593</td>\n",
       "      <td>2063</td>\n",
       "      <td>26530</td>\n",
       "      <td>1809</td>\n",
       "      <td>-13323</td>\n",
       "    </tr>\n",
       "    <tr>\n",
       "      <th>22</th>\n",
       "      <td>Summer&lt;br&gt;2012</td>\n",
       "      <td>21</td>\n",
       "      <td>12072</td>\n",
       "      <td>39</td>\n",
       "      <td>22932</td>\n",
       "      <td>10904</td>\n",
       "      <td>1832</td>\n",
       "      <td>35668</td>\n",
       "      <td>1551</td>\n",
       "      <td>34117</td>\n",
       "      <td>11273</td>\n",
       "      <td>16822</td>\n",
       "      <td>28568</td>\n",
       "      <td>2063</td>\n",
       "      <td>26505</td>\n",
       "      <td>5549</td>\n",
       "      <td>-11273</td>\n",
       "    </tr>\n",
       "    <tr>\n",
       "      <th>23</th>\n",
       "      <td>Summer&lt;br&gt;2013</td>\n",
       "      <td>21</td>\n",
       "      <td>12078</td>\n",
       "      <td>39</td>\n",
       "      <td>21988</td>\n",
       "      <td>10475</td>\n",
       "      <td>1861</td>\n",
       "      <td>34324</td>\n",
       "      <td>1348</td>\n",
       "      <td>32976</td>\n",
       "      <td>11365</td>\n",
       "      <td>15425</td>\n",
       "      <td>28916</td>\n",
       "      <td>2088</td>\n",
       "      <td>26828</td>\n",
       "      <td>4060</td>\n",
       "      <td>-11365</td>\n",
       "    </tr>\n",
       "    <tr>\n",
       "      <th>24</th>\n",
       "      <td>Summer&lt;br&gt;2014</td>\n",
       "      <td>21</td>\n",
       "      <td>12084</td>\n",
       "      <td>39</td>\n",
       "      <td>22170</td>\n",
       "      <td>11909</td>\n",
       "      <td>1907</td>\n",
       "      <td>35986</td>\n",
       "      <td>1574</td>\n",
       "      <td>34412</td>\n",
       "      <td>10021</td>\n",
       "      <td>16179</td>\n",
       "      <td>28254</td>\n",
       "      <td>2039</td>\n",
       "      <td>26215</td>\n",
       "      <td>6158</td>\n",
       "      <td>-10021</td>\n",
       "    </tr>\n",
       "    <tr>\n",
       "      <th>25</th>\n",
       "      <td>Summer&lt;br&gt;2015</td>\n",
       "      <td>21</td>\n",
       "      <td>12090</td>\n",
       "      <td>39</td>\n",
       "      <td>22439</td>\n",
       "      <td>9868</td>\n",
       "      <td>2052</td>\n",
       "      <td>34359</td>\n",
       "      <td>1598</td>\n",
       "      <td>32761</td>\n",
       "      <td>12035</td>\n",
       "      <td>16330</td>\n",
       "      <td>28466</td>\n",
       "      <td>2054</td>\n",
       "      <td>26412</td>\n",
       "      <td>4295</td>\n",
       "      <td>-12035</td>\n",
       "    </tr>\n",
       "    <tr>\n",
       "      <th>26</th>\n",
       "      <td>Summer&lt;br&gt;2016</td>\n",
       "      <td>21</td>\n",
       "      <td>12096</td>\n",
       "      <td>39</td>\n",
       "      <td>21897</td>\n",
       "      <td>9962</td>\n",
       "      <td>2382</td>\n",
       "      <td>34241</td>\n",
       "      <td>1780</td>\n",
       "      <td>32461</td>\n",
       "      <td>12028</td>\n",
       "      <td>16280</td>\n",
       "      <td>28209</td>\n",
       "      <td>2035</td>\n",
       "      <td>26174</td>\n",
       "      <td>4252</td>\n",
       "      <td>-12028</td>\n",
       "    </tr>\n",
       "    <tr>\n",
       "      <th>27</th>\n",
       "      <td>Summer&lt;br&gt;2017</td>\n",
       "      <td>21</td>\n",
       "      <td>12102</td>\n",
       "      <td>39</td>\n",
       "      <td>20701</td>\n",
       "      <td>10583</td>\n",
       "      <td>2594</td>\n",
       "      <td>33878</td>\n",
       "      <td>2384</td>\n",
       "      <td>31494</td>\n",
       "      <td>12629</td>\n",
       "      <td>15767</td>\n",
       "      <td>28356</td>\n",
       "      <td>2046</td>\n",
       "      <td>26310</td>\n",
       "      <td>3138</td>\n",
       "      <td>-12629</td>\n",
       "    </tr>\n",
       "    <tr>\n",
       "      <th>28</th>\n",
       "      <td>Summer&lt;br&gt;2018</td>\n",
       "      <td>21</td>\n",
       "      <td>12108</td>\n",
       "      <td>39</td>\n",
       "      <td>21812</td>\n",
       "      <td>12176</td>\n",
       "      <td>2998</td>\n",
       "      <td>36986</td>\n",
       "      <td>2408</td>\n",
       "      <td>34578</td>\n",
       "      <td>9689</td>\n",
       "      <td>16395</td>\n",
       "      <td>27872</td>\n",
       "      <td>2012</td>\n",
       "      <td>25860</td>\n",
       "      <td>6706</td>\n",
       "      <td>-9689</td>\n",
       "    </tr>\n",
       "    <tr>\n",
       "      <th>29</th>\n",
       "      <td>Summer&lt;br&gt;2019</td>\n",
       "      <td>21</td>\n",
       "      <td>12114</td>\n",
       "      <td>39</td>\n",
       "      <td>23597</td>\n",
       "      <td>11380</td>\n",
       "      <td>3145</td>\n",
       "      <td>38122</td>\n",
       "      <td>2450</td>\n",
       "      <td>35672</td>\n",
       "      <td>10576</td>\n",
       "      <td>18282</td>\n",
       "      <td>27966</td>\n",
       "      <td>2020</td>\n",
       "      <td>25946</td>\n",
       "      <td>7706</td>\n",
       "      <td>-10576</td>\n",
       "    </tr>\n",
       "    <tr>\n",
       "      <th>30</th>\n",
       "      <td>Summer&lt;br&gt;2020</td>\n",
       "      <td>21</td>\n",
       "      <td>12120</td>\n",
       "      <td>39</td>\n",
       "      <td>22276</td>\n",
       "      <td>10336</td>\n",
       "      <td>3349</td>\n",
       "      <td>35961</td>\n",
       "      <td>2823</td>\n",
       "      <td>33138</td>\n",
       "      <td>9276</td>\n",
       "      <td>15614</td>\n",
       "      <td>26800</td>\n",
       "      <td>1933</td>\n",
       "      <td>24867</td>\n",
       "      <td>6338</td>\n",
       "      <td>-9276</td>\n",
       "    </tr>\n",
       "    <tr>\n",
       "      <th>31</th>\n",
       "      <td>Summer&lt;br&gt;2021</td>\n",
       "      <td>21</td>\n",
       "      <td>12126</td>\n",
       "      <td>39</td>\n",
       "      <td>22842</td>\n",
       "      <td>7726</td>\n",
       "      <td>3405</td>\n",
       "      <td>33973</td>\n",
       "      <td>2401</td>\n",
       "      <td>31572</td>\n",
       "      <td>12174</td>\n",
       "      <td>15469</td>\n",
       "      <td>28277</td>\n",
       "      <td>2040</td>\n",
       "      <td>26237</td>\n",
       "      <td>3295</td>\n",
       "      <td>-12174</td>\n",
       "    </tr>\n",
       "  </tbody>\n",
       "</table>\n",
       "</div>"
      ],
      "text/plain": [
       "       year_season  month_in_season   year  month  production_hydro  \\\n",
       "0   Summer<br>1990               21  11940     39             17508   \n",
       "1   Summer<br>1991               21  11946     39             18370   \n",
       "2   Summer<br>1992               21  11952     39             19574   \n",
       "3   Summer<br>1993               21  11958     39             19792   \n",
       "4   Summer<br>1994               21  11964     39             23183   \n",
       "5   Summer<br>1995               21  11970     39             20500   \n",
       "6   Summer<br>1996               21  11976     39             16116   \n",
       "7   Summer<br>1997               21  11982     39             20108   \n",
       "8   Summer<br>1998               21  11988     39             19348   \n",
       "9   Summer<br>1999               21  11994     39             23444   \n",
       "10  Summer<br>2000               21  12000     39             20674   \n",
       "11  Summer<br>2001               21  12006     39             24992   \n",
       "12  Summer<br>2002               21  12012     39             21414   \n",
       "13  Summer<br>2003               21  12018     39             21067   \n",
       "14  Summer<br>2004               21  12024     39             20176   \n",
       "15  Summer<br>2005               21  12030     39             18779   \n",
       "16  Summer<br>2006               21  12036     39             19085   \n",
       "17  Summer<br>2007               21  12042     39             21815   \n",
       "18  Summer<br>2008               21  12048     39             22975   \n",
       "19  Summer<br>2009               21  12054     39             23213   \n",
       "20  Summer<br>2010               21  12060     39             21256   \n",
       "21  Summer<br>2011               21  12066     39             19049   \n",
       "22  Summer<br>2012               21  12072     39             22932   \n",
       "23  Summer<br>2013               21  12078     39             21988   \n",
       "24  Summer<br>2014               21  12084     39             22170   \n",
       "25  Summer<br>2015               21  12090     39             22439   \n",
       "26  Summer<br>2016               21  12096     39             21897   \n",
       "27  Summer<br>2017               21  12102     39             20701   \n",
       "28  Summer<br>2018               21  12108     39             21812   \n",
       "29  Summer<br>2019               21  12114     39             23597   \n",
       "30  Summer<br>2020               21  12120     39             22276   \n",
       "31  Summer<br>2021               21  12126     39             22842   \n",
       "\n",
       "    production_nuclear  production_therm_and_renewable  production_total  \\\n",
       "0                 9566                             363             27437   \n",
       "1                 8895                             456             27721   \n",
       "2                 9364                             398             29336   \n",
       "3                 9149                             397             29338   \n",
       "4                 9827                             424             33434   \n",
       "5                10081                             446             31027   \n",
       "6                10478                             642             27236   \n",
       "7                10885                             729             31722   \n",
       "8                10882                             923             31153   \n",
       "9                10156                            1138             34738   \n",
       "10               11006                            1182             32862   \n",
       "11               11394                            1221             37607   \n",
       "12               11672                            1291             34377   \n",
       "13               11863                            1391             34321   \n",
       "14               11314                            1405             32895   \n",
       "15                7967                            1488             28234   \n",
       "16               12083                            1579             32747   \n",
       "17               12305                            1511             35631   \n",
       "18               11916                            1614             36505   \n",
       "19               11950                            1576             36739   \n",
       "20               10960                            1778             33994   \n",
       "21               11322                            1676             32047   \n",
       "22               10904                            1832             35668   \n",
       "23               10475                            1861             34324   \n",
       "24               11909                            1907             35986   \n",
       "25                9868                            2052             34359   \n",
       "26                9962                            2382             34241   \n",
       "27               10583                            2594             33878   \n",
       "28               12176                            2998             36986   \n",
       "29               11380                            3145             38122   \n",
       "30               10336                            3349             35961   \n",
       "31                7726                            3405             33973   \n",
       "\n",
       "    production_hydro_losses  production_total_netto  import  export  \\\n",
       "0                      1321                   26116    9686   12955   \n",
       "1                      1559                   26162   11093   13994   \n",
       "2                      1114                   28222    9457   14482   \n",
       "3                       967                   28371   10341   15847   \n",
       "4                      1038                   32396    9144   18240   \n",
       "5                      1178                   29849   11727   18152   \n",
       "6                      1279                   25957   14660   17155   \n",
       "7                      1232                   30490   12204   18956   \n",
       "8                      1328                   29825   16553   22109   \n",
       "9                      1109                   33629   14690   23507   \n",
       "10                     1414                   31448    9930   15604   \n",
       "11                     1338                   36269    7918   17567   \n",
       "12                     1554                   32823   10728   16730   \n",
       "13                     1828                   32493   12136   17517   \n",
       "14                     1610                   31285   10084   13812   \n",
       "15                     1731                   26503   17472   15810   \n",
       "16                     1735                   31012   13621   16270   \n",
       "17                     1292                   34339   13042   19089   \n",
       "18                     1671                   34834   11302   16882   \n",
       "19                     1533                   35206   11005   18348   \n",
       "20                     1602                   32392   13532   16757   \n",
       "21                     1645                   30402   13323   15132   \n",
       "22                     1551                   34117   11273   16822   \n",
       "23                     1348                   32976   11365   15425   \n",
       "24                     1574                   34412   10021   16179   \n",
       "25                     1598                   32761   12035   16330   \n",
       "26                     1780                   32461   12028   16280   \n",
       "27                     2384                   31494   12629   15767   \n",
       "28                     2408                   34578    9689   16395   \n",
       "29                     2450                   35672   10576   18282   \n",
       "30                     2823                   33138    9276   15614   \n",
       "31                     2401                   31572   12174   15469   \n",
       "\n",
       "    consumption_country  losses  consumation_final  import_export_balance  \\\n",
       "0                 22847    1712              21135                   3269   \n",
       "1                 23261    1733              21528                   2901   \n",
       "2                 23197    1723              21474                   5025   \n",
       "3                 22865    1692              21173                   5506   \n",
       "4                 23300    1717              21583                   9096   \n",
       "5                 23424    1711              21713                   6425   \n",
       "6                 23462    1708              21754                   2495   \n",
       "7                 23738    1726              22012                   6752   \n",
       "8                 24269    1749              22520                   5556   \n",
       "9                 24812    1785              23027                   8817   \n",
       "10                25774    1853              23921                   5674   \n",
       "11                26620    1915              24705                   9649   \n",
       "12                26821    1930              24891                   6002   \n",
       "13                27112    1951              25161                   5381   \n",
       "14                27557    1982              25575                   3728   \n",
       "15                28165    2028              26137                  -1662   \n",
       "16                28363    2043              26320                   2649   \n",
       "17                28292    2039              26253                   6047   \n",
       "18                29254    2111              27143                   5580   \n",
       "19                27863    2010              25853                   7343   \n",
       "20                29167    2104              27063                   3225   \n",
       "21                28593    2063              26530                   1809   \n",
       "22                28568    2063              26505                   5549   \n",
       "23                28916    2088              26828                   4060   \n",
       "24                28254    2039              26215                   6158   \n",
       "25                28466    2054              26412                   4295   \n",
       "26                28209    2035              26174                   4252   \n",
       "27                28356    2046              26310                   3138   \n",
       "28                27872    2012              25860                   6706   \n",
       "29                27966    2020              25946                   7706   \n",
       "30                26800    1933              24867                   6338   \n",
       "31                28277    2040              26237                   3295   \n",
       "\n",
       "    import_minus  \n",
       "0          -9686  \n",
       "1         -11093  \n",
       "2          -9457  \n",
       "3         -10341  \n",
       "4          -9144  \n",
       "5         -11727  \n",
       "6         -14660  \n",
       "7         -12204  \n",
       "8         -16553  \n",
       "9         -14690  \n",
       "10         -9930  \n",
       "11         -7918  \n",
       "12        -10728  \n",
       "13        -12136  \n",
       "14        -10084  \n",
       "15        -17472  \n",
       "16        -13621  \n",
       "17        -13042  \n",
       "18        -11302  \n",
       "19        -11005  \n",
       "20        -13532  \n",
       "21        -13323  \n",
       "22        -11273  \n",
       "23        -11365  \n",
       "24        -10021  \n",
       "25        -12035  \n",
       "26        -12028  \n",
       "27        -12629  \n",
       "28         -9689  \n",
       "29        -10576  \n",
       "30         -9276  \n",
       "31        -12174  "
      ]
     },
     "execution_count": 35,
     "metadata": {},
     "output_type": "execute_result"
    }
   ],
   "source": [
    "df_summer = df[df['year_season'].str.startswith('Summer')]\n",
    "df_summer"
   ]
  },
  {
   "cell_type": "code",
   "execution_count": 45,
   "id": "1ae9a581",
   "metadata": {},
   "outputs": [
    {
     "data": {
      "text/plain": [
       "0     90\n",
       "4     94\n",
       "8     98\n",
       "12    02\n",
       "16    06\n",
       "20    10\n",
       "24    14\n",
       "28    18\n",
       "Name: year_season, dtype: object"
      ]
     },
     "execution_count": 45,
     "metadata": {},
     "output_type": "execute_result"
    }
   ],
   "source": [
    "summer_xaxis_vals = df_summer.iloc[::4, :].year_season\n",
    "summer_xaxis_labels = summer_xaxis_vals.apply(lambda x: x[-2:])\n",
    "\n",
    "summer_xaxis_labels"
   ]
  },
  {
   "cell_type": "code",
   "execution_count": 6,
   "id": "791e0897",
   "metadata": {
    "pycharm": {
     "name": "#%%\n"
    }
   },
   "outputs": [
    {
     "data": {
      "application/vnd.plotly.v1+json": {
       "config": {
        "displayModeBar": true,
        "plotlyServerURL": "https://plot.ly"
       },
       "data": [
        {
         "marker": {
          "color": "gray"
         },
         "name": "Export",
         "type": "bar",
         "x": [
          "Summer<br>1990",
          "Summer<br>1991",
          "Summer<br>1992",
          "Summer<br>1993",
          "Summer<br>1994",
          "Summer<br>1995",
          "Summer<br>1996",
          "Summer<br>1997",
          "Summer<br>1998",
          "Summer<br>1999",
          "Summer<br>2000",
          "Summer<br>2001",
          "Summer<br>2002",
          "Summer<br>2003",
          "Summer<br>2004",
          "Summer<br>2005",
          "Summer<br>2006",
          "Summer<br>2007",
          "Summer<br>2008",
          "Summer<br>2009",
          "Summer<br>2010",
          "Summer<br>2011",
          "Summer<br>2012",
          "Summer<br>2013",
          "Summer<br>2014",
          "Summer<br>2015",
          "Summer<br>2016",
          "Summer<br>2017",
          "Summer<br>2018",
          "Summer<br>2019",
          "Summer<br>2020",
          "Summer<br>2021"
         ],
         "y": [
          12955,
          13994,
          14482,
          15847,
          18240,
          18152,
          17155,
          18956,
          22109,
          23507,
          15604,
          17567,
          16730,
          17517,
          13812,
          15810,
          16270,
          19089,
          16882,
          18348,
          16757,
          15132,
          16822,
          15425,
          16179,
          16330,
          16280,
          15767,
          16395,
          18282,
          15614,
          15469
         ]
        },
        {
         "marker": {
          "color": "red"
         },
         "name": "Import",
         "type": "bar",
         "x": [
          "Summer<br>1990",
          "Summer<br>1991",
          "Summer<br>1992",
          "Summer<br>1993",
          "Summer<br>1994",
          "Summer<br>1995",
          "Summer<br>1996",
          "Summer<br>1997",
          "Summer<br>1998",
          "Summer<br>1999",
          "Summer<br>2000",
          "Summer<br>2001",
          "Summer<br>2002",
          "Summer<br>2003",
          "Summer<br>2004",
          "Summer<br>2005",
          "Summer<br>2006",
          "Summer<br>2007",
          "Summer<br>2008",
          "Summer<br>2009",
          "Summer<br>2010",
          "Summer<br>2011",
          "Summer<br>2012",
          "Summer<br>2013",
          "Summer<br>2014",
          "Summer<br>2015",
          "Summer<br>2016",
          "Summer<br>2017",
          "Summer<br>2018",
          "Summer<br>2019",
          "Summer<br>2020",
          "Summer<br>2021"
         ],
         "y": [
          -9686,
          -11093,
          -9457,
          -10341,
          -9144,
          -11727,
          -14660,
          -12204,
          -16553,
          -14690,
          -9930,
          -7918,
          -10728,
          -12136,
          -10084,
          -17472,
          -13621,
          -13042,
          -11302,
          -11005,
          -13532,
          -13323,
          -11273,
          -11365,
          -10021,
          -12035,
          -12028,
          -12629,
          -9689,
          -10576,
          -9276,
          -12174
         ]
        },
        {
         "line": {
          "color": "#000000",
          "width": 3
         },
         "mode": "lines",
         "name": "Balance",
         "showlegend": false,
         "type": "scatter",
         "x": [
          "Summer<br>1990",
          "Summer<br>1991",
          "Summer<br>1992",
          "Summer<br>1993",
          "Summer<br>1994",
          "Summer<br>1995",
          "Summer<br>1996",
          "Summer<br>1997",
          "Summer<br>1998",
          "Summer<br>1999",
          "Summer<br>2000",
          "Summer<br>2001",
          "Summer<br>2002",
          "Summer<br>2003",
          "Summer<br>2004",
          "Summer<br>2005",
          "Summer<br>2006",
          "Summer<br>2007",
          "Summer<br>2008",
          "Summer<br>2009",
          "Summer<br>2010",
          "Summer<br>2011",
          "Summer<br>2012",
          "Summer<br>2013",
          "Summer<br>2014",
          "Summer<br>2015",
          "Summer<br>2016",
          "Summer<br>2017",
          "Summer<br>2018",
          "Summer<br>2019",
          "Summer<br>2020",
          "Summer<br>2021"
         ],
         "y": [
          3269,
          2901,
          5025,
          5506,
          9096,
          6425,
          2495,
          6752,
          5556,
          8817,
          5674,
          9649,
          6002,
          5381,
          3728,
          -1662,
          2649,
          6047,
          5580,
          7343,
          3225,
          1809,
          5549,
          4060,
          6158,
          4295,
          4252,
          3138,
          6706,
          7706,
          6338,
          3295
         ]
        }
       ],
       "layout": {
        "annotations": [
         {
          "font": {
           "color": "black",
           "size": 14
          },
          "showarrow": false,
          "text": "<b>Balance</b>",
          "textangle": 0,
          "x": 1,
          "xanchor": "left",
          "xref": "paper",
          "y": -5492,
          "yshift": 2
         }
        ],
        "barmode": "relative",
        "legend": {
         "orientation": "h"
        },
        "margin": {
         "b": 10,
         "pad": 10,
         "r": 250
        },
        "plot_bgcolor": "#ffffff",
        "separators": ",'",
        "showlegend": true,
        "template": {
         "data": {
          "bar": [
           {
            "error_x": {
             "color": "#2a3f5f"
            },
            "error_y": {
             "color": "#2a3f5f"
            },
            "marker": {
             "line": {
              "color": "#E5ECF6",
              "width": 0.5
             },
             "pattern": {
              "fillmode": "overlay",
              "size": 10,
              "solidity": 0.2
             }
            },
            "type": "bar"
           }
          ],
          "barpolar": [
           {
            "marker": {
             "line": {
              "color": "#E5ECF6",
              "width": 0.5
             },
             "pattern": {
              "fillmode": "overlay",
              "size": 10,
              "solidity": 0.2
             }
            },
            "type": "barpolar"
           }
          ],
          "carpet": [
           {
            "aaxis": {
             "endlinecolor": "#2a3f5f",
             "gridcolor": "white",
             "linecolor": "white",
             "minorgridcolor": "white",
             "startlinecolor": "#2a3f5f"
            },
            "baxis": {
             "endlinecolor": "#2a3f5f",
             "gridcolor": "white",
             "linecolor": "white",
             "minorgridcolor": "white",
             "startlinecolor": "#2a3f5f"
            },
            "type": "carpet"
           }
          ],
          "choropleth": [
           {
            "colorbar": {
             "outlinewidth": 0,
             "ticks": ""
            },
            "type": "choropleth"
           }
          ],
          "contour": [
           {
            "colorbar": {
             "outlinewidth": 0,
             "ticks": ""
            },
            "colorscale": [
             [
              0,
              "#0d0887"
             ],
             [
              0.1111111111111111,
              "#46039f"
             ],
             [
              0.2222222222222222,
              "#7201a8"
             ],
             [
              0.3333333333333333,
              "#9c179e"
             ],
             [
              0.4444444444444444,
              "#bd3786"
             ],
             [
              0.5555555555555556,
              "#d8576b"
             ],
             [
              0.6666666666666666,
              "#ed7953"
             ],
             [
              0.7777777777777778,
              "#fb9f3a"
             ],
             [
              0.8888888888888888,
              "#fdca26"
             ],
             [
              1,
              "#f0f921"
             ]
            ],
            "type": "contour"
           }
          ],
          "contourcarpet": [
           {
            "colorbar": {
             "outlinewidth": 0,
             "ticks": ""
            },
            "type": "contourcarpet"
           }
          ],
          "heatmap": [
           {
            "colorbar": {
             "outlinewidth": 0,
             "ticks": ""
            },
            "colorscale": [
             [
              0,
              "#0d0887"
             ],
             [
              0.1111111111111111,
              "#46039f"
             ],
             [
              0.2222222222222222,
              "#7201a8"
             ],
             [
              0.3333333333333333,
              "#9c179e"
             ],
             [
              0.4444444444444444,
              "#bd3786"
             ],
             [
              0.5555555555555556,
              "#d8576b"
             ],
             [
              0.6666666666666666,
              "#ed7953"
             ],
             [
              0.7777777777777778,
              "#fb9f3a"
             ],
             [
              0.8888888888888888,
              "#fdca26"
             ],
             [
              1,
              "#f0f921"
             ]
            ],
            "type": "heatmap"
           }
          ],
          "heatmapgl": [
           {
            "colorbar": {
             "outlinewidth": 0,
             "ticks": ""
            },
            "colorscale": [
             [
              0,
              "#0d0887"
             ],
             [
              0.1111111111111111,
              "#46039f"
             ],
             [
              0.2222222222222222,
              "#7201a8"
             ],
             [
              0.3333333333333333,
              "#9c179e"
             ],
             [
              0.4444444444444444,
              "#bd3786"
             ],
             [
              0.5555555555555556,
              "#d8576b"
             ],
             [
              0.6666666666666666,
              "#ed7953"
             ],
             [
              0.7777777777777778,
              "#fb9f3a"
             ],
             [
              0.8888888888888888,
              "#fdca26"
             ],
             [
              1,
              "#f0f921"
             ]
            ],
            "type": "heatmapgl"
           }
          ],
          "histogram": [
           {
            "marker": {
             "pattern": {
              "fillmode": "overlay",
              "size": 10,
              "solidity": 0.2
             }
            },
            "type": "histogram"
           }
          ],
          "histogram2d": [
           {
            "colorbar": {
             "outlinewidth": 0,
             "ticks": ""
            },
            "colorscale": [
             [
              0,
              "#0d0887"
             ],
             [
              0.1111111111111111,
              "#46039f"
             ],
             [
              0.2222222222222222,
              "#7201a8"
             ],
             [
              0.3333333333333333,
              "#9c179e"
             ],
             [
              0.4444444444444444,
              "#bd3786"
             ],
             [
              0.5555555555555556,
              "#d8576b"
             ],
             [
              0.6666666666666666,
              "#ed7953"
             ],
             [
              0.7777777777777778,
              "#fb9f3a"
             ],
             [
              0.8888888888888888,
              "#fdca26"
             ],
             [
              1,
              "#f0f921"
             ]
            ],
            "type": "histogram2d"
           }
          ],
          "histogram2dcontour": [
           {
            "colorbar": {
             "outlinewidth": 0,
             "ticks": ""
            },
            "colorscale": [
             [
              0,
              "#0d0887"
             ],
             [
              0.1111111111111111,
              "#46039f"
             ],
             [
              0.2222222222222222,
              "#7201a8"
             ],
             [
              0.3333333333333333,
              "#9c179e"
             ],
             [
              0.4444444444444444,
              "#bd3786"
             ],
             [
              0.5555555555555556,
              "#d8576b"
             ],
             [
              0.6666666666666666,
              "#ed7953"
             ],
             [
              0.7777777777777778,
              "#fb9f3a"
             ],
             [
              0.8888888888888888,
              "#fdca26"
             ],
             [
              1,
              "#f0f921"
             ]
            ],
            "type": "histogram2dcontour"
           }
          ],
          "mesh3d": [
           {
            "colorbar": {
             "outlinewidth": 0,
             "ticks": ""
            },
            "type": "mesh3d"
           }
          ],
          "parcoords": [
           {
            "line": {
             "colorbar": {
              "outlinewidth": 0,
              "ticks": ""
             }
            },
            "type": "parcoords"
           }
          ],
          "pie": [
           {
            "automargin": true,
            "type": "pie"
           }
          ],
          "scatter": [
           {
            "marker": {
             "colorbar": {
              "outlinewidth": 0,
              "ticks": ""
             }
            },
            "type": "scatter"
           }
          ],
          "scatter3d": [
           {
            "line": {
             "colorbar": {
              "outlinewidth": 0,
              "ticks": ""
             }
            },
            "marker": {
             "colorbar": {
              "outlinewidth": 0,
              "ticks": ""
             }
            },
            "type": "scatter3d"
           }
          ],
          "scattercarpet": [
           {
            "marker": {
             "colorbar": {
              "outlinewidth": 0,
              "ticks": ""
             }
            },
            "type": "scattercarpet"
           }
          ],
          "scattergeo": [
           {
            "marker": {
             "colorbar": {
              "outlinewidth": 0,
              "ticks": ""
             }
            },
            "type": "scattergeo"
           }
          ],
          "scattergl": [
           {
            "marker": {
             "colorbar": {
              "outlinewidth": 0,
              "ticks": ""
             }
            },
            "type": "scattergl"
           }
          ],
          "scattermapbox": [
           {
            "marker": {
             "colorbar": {
              "outlinewidth": 0,
              "ticks": ""
             }
            },
            "type": "scattermapbox"
           }
          ],
          "scatterpolar": [
           {
            "marker": {
             "colorbar": {
              "outlinewidth": 0,
              "ticks": ""
             }
            },
            "type": "scatterpolar"
           }
          ],
          "scatterpolargl": [
           {
            "marker": {
             "colorbar": {
              "outlinewidth": 0,
              "ticks": ""
             }
            },
            "type": "scatterpolargl"
           }
          ],
          "scatterternary": [
           {
            "marker": {
             "colorbar": {
              "outlinewidth": 0,
              "ticks": ""
             }
            },
            "type": "scatterternary"
           }
          ],
          "surface": [
           {
            "colorbar": {
             "outlinewidth": 0,
             "ticks": ""
            },
            "colorscale": [
             [
              0,
              "#0d0887"
             ],
             [
              0.1111111111111111,
              "#46039f"
             ],
             [
              0.2222222222222222,
              "#7201a8"
             ],
             [
              0.3333333333333333,
              "#9c179e"
             ],
             [
              0.4444444444444444,
              "#bd3786"
             ],
             [
              0.5555555555555556,
              "#d8576b"
             ],
             [
              0.6666666666666666,
              "#ed7953"
             ],
             [
              0.7777777777777778,
              "#fb9f3a"
             ],
             [
              0.8888888888888888,
              "#fdca26"
             ],
             [
              1,
              "#f0f921"
             ]
            ],
            "type": "surface"
           }
          ],
          "table": [
           {
            "cells": {
             "fill": {
              "color": "#EBF0F8"
             },
             "line": {
              "color": "white"
             }
            },
            "header": {
             "fill": {
              "color": "#C8D4E3"
             },
             "line": {
              "color": "white"
             }
            },
            "type": "table"
           }
          ]
         },
         "layout": {
          "annotationdefaults": {
           "arrowcolor": "#2a3f5f",
           "arrowhead": 0,
           "arrowwidth": 1
          },
          "autotypenumbers": "strict",
          "coloraxis": {
           "colorbar": {
            "outlinewidth": 0,
            "ticks": ""
           }
          },
          "colorscale": {
           "diverging": [
            [
             0,
             "#8e0152"
            ],
            [
             0.1,
             "#c51b7d"
            ],
            [
             0.2,
             "#de77ae"
            ],
            [
             0.3,
             "#f1b6da"
            ],
            [
             0.4,
             "#fde0ef"
            ],
            [
             0.5,
             "#f7f7f7"
            ],
            [
             0.6,
             "#e6f5d0"
            ],
            [
             0.7,
             "#b8e186"
            ],
            [
             0.8,
             "#7fbc41"
            ],
            [
             0.9,
             "#4d9221"
            ],
            [
             1,
             "#276419"
            ]
           ],
           "sequential": [
            [
             0,
             "#0d0887"
            ],
            [
             0.1111111111111111,
             "#46039f"
            ],
            [
             0.2222222222222222,
             "#7201a8"
            ],
            [
             0.3333333333333333,
             "#9c179e"
            ],
            [
             0.4444444444444444,
             "#bd3786"
            ],
            [
             0.5555555555555556,
             "#d8576b"
            ],
            [
             0.6666666666666666,
             "#ed7953"
            ],
            [
             0.7777777777777778,
             "#fb9f3a"
            ],
            [
             0.8888888888888888,
             "#fdca26"
            ],
            [
             1,
             "#f0f921"
            ]
           ],
           "sequentialminus": [
            [
             0,
             "#0d0887"
            ],
            [
             0.1111111111111111,
             "#46039f"
            ],
            [
             0.2222222222222222,
             "#7201a8"
            ],
            [
             0.3333333333333333,
             "#9c179e"
            ],
            [
             0.4444444444444444,
             "#bd3786"
            ],
            [
             0.5555555555555556,
             "#d8576b"
            ],
            [
             0.6666666666666666,
             "#ed7953"
            ],
            [
             0.7777777777777778,
             "#fb9f3a"
            ],
            [
             0.8888888888888888,
             "#fdca26"
            ],
            [
             1,
             "#f0f921"
            ]
           ]
          },
          "colorway": [
           "#636efa",
           "#EF553B",
           "#00cc96",
           "#ab63fa",
           "#FFA15A",
           "#19d3f3",
           "#FF6692",
           "#B6E880",
           "#FF97FF",
           "#FECB52"
          ],
          "font": {
           "color": "#2a3f5f"
          },
          "geo": {
           "bgcolor": "white",
           "lakecolor": "white",
           "landcolor": "#E5ECF6",
           "showlakes": true,
           "showland": true,
           "subunitcolor": "white"
          },
          "hoverlabel": {
           "align": "left"
          },
          "hovermode": "closest",
          "mapbox": {
           "style": "light"
          },
          "paper_bgcolor": "white",
          "plot_bgcolor": "#E5ECF6",
          "polar": {
           "angularaxis": {
            "gridcolor": "white",
            "linecolor": "white",
            "ticks": ""
           },
           "bgcolor": "#E5ECF6",
           "radialaxis": {
            "gridcolor": "white",
            "linecolor": "white",
            "ticks": ""
           }
          },
          "scene": {
           "xaxis": {
            "backgroundcolor": "#E5ECF6",
            "gridcolor": "white",
            "gridwidth": 2,
            "linecolor": "white",
            "showbackground": true,
            "ticks": "",
            "zerolinecolor": "white"
           },
           "yaxis": {
            "backgroundcolor": "#E5ECF6",
            "gridcolor": "white",
            "gridwidth": 2,
            "linecolor": "white",
            "showbackground": true,
            "ticks": "",
            "zerolinecolor": "white"
           },
           "zaxis": {
            "backgroundcolor": "#E5ECF6",
            "gridcolor": "white",
            "gridwidth": 2,
            "linecolor": "white",
            "showbackground": true,
            "ticks": "",
            "zerolinecolor": "white"
           }
          },
          "shapedefaults": {
           "line": {
            "color": "#2a3f5f"
           }
          },
          "ternary": {
           "aaxis": {
            "gridcolor": "white",
            "linecolor": "white",
            "ticks": ""
           },
           "baxis": {
            "gridcolor": "white",
            "linecolor": "white",
            "ticks": ""
           },
           "bgcolor": "#E5ECF6",
           "caxis": {
            "gridcolor": "white",
            "linecolor": "white",
            "ticks": ""
           }
          },
          "title": {
           "x": 0.05
          },
          "xaxis": {
           "automargin": true,
           "gridcolor": "white",
           "linecolor": "white",
           "ticks": "",
           "title": {
            "standoff": 15
           },
           "zerolinecolor": "white",
           "zerolinewidth": 2
          },
          "yaxis": {
           "automargin": true,
           "gridcolor": "white",
           "linecolor": "white",
           "ticks": "",
           "title": {
            "standoff": 15
           },
           "zerolinecolor": "white",
           "zerolinewidth": 2
          }
         }
        },
        "title": {
         "text": "Import/Export History Summer"
        },
        "xaxis": {
         "color": "#a6a6a6",
         "showgrid": false,
         "showline": false
        },
        "yaxis": {
         "color": "#a6a6a6",
         "gridcolor": "#EBECF0",
         "showgrid": true,
         "showline": false,
         "tickformat": ",.0f"
        }
       }
      },
      "text/html": [
       "<div>                            <div id=\"6b4fd480-01a0-49d1-982d-b8f5b5ac0e7c\" class=\"plotly-graph-div\" style=\"height:525px; width:100%;\"></div>            <script type=\"text/javascript\">                require([\"plotly\"], function(Plotly) {                    window.PLOTLYENV=window.PLOTLYENV || {};                                    if (document.getElementById(\"6b4fd480-01a0-49d1-982d-b8f5b5ac0e7c\")) {                    Plotly.newPlot(                        \"6b4fd480-01a0-49d1-982d-b8f5b5ac0e7c\",                        [{\"marker\":{\"color\":\"gray\"},\"name\":\"Export\",\"x\":[\"Summer<br>1990\",\"Summer<br>1991\",\"Summer<br>1992\",\"Summer<br>1993\",\"Summer<br>1994\",\"Summer<br>1995\",\"Summer<br>1996\",\"Summer<br>1997\",\"Summer<br>1998\",\"Summer<br>1999\",\"Summer<br>2000\",\"Summer<br>2001\",\"Summer<br>2002\",\"Summer<br>2003\",\"Summer<br>2004\",\"Summer<br>2005\",\"Summer<br>2006\",\"Summer<br>2007\",\"Summer<br>2008\",\"Summer<br>2009\",\"Summer<br>2010\",\"Summer<br>2011\",\"Summer<br>2012\",\"Summer<br>2013\",\"Summer<br>2014\",\"Summer<br>2015\",\"Summer<br>2016\",\"Summer<br>2017\",\"Summer<br>2018\",\"Summer<br>2019\",\"Summer<br>2020\",\"Summer<br>2021\"],\"y\":[12955,13994,14482,15847,18240,18152,17155,18956,22109,23507,15604,17567,16730,17517,13812,15810,16270,19089,16882,18348,16757,15132,16822,15425,16179,16330,16280,15767,16395,18282,15614,15469],\"type\":\"bar\"},{\"marker\":{\"color\":\"red\"},\"name\":\"Import\",\"x\":[\"Summer<br>1990\",\"Summer<br>1991\",\"Summer<br>1992\",\"Summer<br>1993\",\"Summer<br>1994\",\"Summer<br>1995\",\"Summer<br>1996\",\"Summer<br>1997\",\"Summer<br>1998\",\"Summer<br>1999\",\"Summer<br>2000\",\"Summer<br>2001\",\"Summer<br>2002\",\"Summer<br>2003\",\"Summer<br>2004\",\"Summer<br>2005\",\"Summer<br>2006\",\"Summer<br>2007\",\"Summer<br>2008\",\"Summer<br>2009\",\"Summer<br>2010\",\"Summer<br>2011\",\"Summer<br>2012\",\"Summer<br>2013\",\"Summer<br>2014\",\"Summer<br>2015\",\"Summer<br>2016\",\"Summer<br>2017\",\"Summer<br>2018\",\"Summer<br>2019\",\"Summer<br>2020\",\"Summer<br>2021\"],\"y\":[-9686,-11093,-9457,-10341,-9144,-11727,-14660,-12204,-16553,-14690,-9930,-7918,-10728,-12136,-10084,-17472,-13621,-13042,-11302,-11005,-13532,-13323,-11273,-11365,-10021,-12035,-12028,-12629,-9689,-10576,-9276,-12174],\"type\":\"bar\"},{\"line\":{\"width\":3,\"color\":\"#000000\"},\"mode\":\"lines\",\"name\":\"Balance\",\"showlegend\":false,\"x\":[\"Summer<br>1990\",\"Summer<br>1991\",\"Summer<br>1992\",\"Summer<br>1993\",\"Summer<br>1994\",\"Summer<br>1995\",\"Summer<br>1996\",\"Summer<br>1997\",\"Summer<br>1998\",\"Summer<br>1999\",\"Summer<br>2000\",\"Summer<br>2001\",\"Summer<br>2002\",\"Summer<br>2003\",\"Summer<br>2004\",\"Summer<br>2005\",\"Summer<br>2006\",\"Summer<br>2007\",\"Summer<br>2008\",\"Summer<br>2009\",\"Summer<br>2010\",\"Summer<br>2011\",\"Summer<br>2012\",\"Summer<br>2013\",\"Summer<br>2014\",\"Summer<br>2015\",\"Summer<br>2016\",\"Summer<br>2017\",\"Summer<br>2018\",\"Summer<br>2019\",\"Summer<br>2020\",\"Summer<br>2021\"],\"y\":[3269,2901,5025,5506,9096,6425,2495,6752,5556,8817,5674,9649,6002,5381,3728,-1662,2649,6047,5580,7343,3225,1809,5549,4060,6158,4295,4252,3138,6706,7706,6338,3295],\"type\":\"scatter\"}],                        {\"barmode\":\"relative\",\"legend\":{\"orientation\":\"h\"},\"margin\":{\"b\":10,\"pad\":10,\"r\":250},\"plot_bgcolor\":\"#ffffff\",\"separators\":\",'\",\"showlegend\":true,\"title\":{\"text\":\"Import/Export History Summer\"},\"xaxis\":{\"color\":\"#a6a6a6\",\"showgrid\":false,\"showline\":false},\"yaxis\":{\"color\":\"#a6a6a6\",\"gridcolor\":\"#EBECF0\",\"showgrid\":true,\"showline\":false,\"tickformat\":\",.0f\"},\"template\":{\"data\":{\"bar\":[{\"error_x\":{\"color\":\"#2a3f5f\"},\"error_y\":{\"color\":\"#2a3f5f\"},\"marker\":{\"line\":{\"color\":\"#E5ECF6\",\"width\":0.5},\"pattern\":{\"fillmode\":\"overlay\",\"size\":10,\"solidity\":0.2}},\"type\":\"bar\"}],\"barpolar\":[{\"marker\":{\"line\":{\"color\":\"#E5ECF6\",\"width\":0.5},\"pattern\":{\"fillmode\":\"overlay\",\"size\":10,\"solidity\":0.2}},\"type\":\"barpolar\"}],\"carpet\":[{\"aaxis\":{\"endlinecolor\":\"#2a3f5f\",\"gridcolor\":\"white\",\"linecolor\":\"white\",\"minorgridcolor\":\"white\",\"startlinecolor\":\"#2a3f5f\"},\"baxis\":{\"endlinecolor\":\"#2a3f5f\",\"gridcolor\":\"white\",\"linecolor\":\"white\",\"minorgridcolor\":\"white\",\"startlinecolor\":\"#2a3f5f\"},\"type\":\"carpet\"}],\"choropleth\":[{\"colorbar\":{\"outlinewidth\":0,\"ticks\":\"\"},\"type\":\"choropleth\"}],\"contour\":[{\"colorbar\":{\"outlinewidth\":0,\"ticks\":\"\"},\"colorscale\":[[0.0,\"#0d0887\"],[0.1111111111111111,\"#46039f\"],[0.2222222222222222,\"#7201a8\"],[0.3333333333333333,\"#9c179e\"],[0.4444444444444444,\"#bd3786\"],[0.5555555555555556,\"#d8576b\"],[0.6666666666666666,\"#ed7953\"],[0.7777777777777778,\"#fb9f3a\"],[0.8888888888888888,\"#fdca26\"],[1.0,\"#f0f921\"]],\"type\":\"contour\"}],\"contourcarpet\":[{\"colorbar\":{\"outlinewidth\":0,\"ticks\":\"\"},\"type\":\"contourcarpet\"}],\"heatmap\":[{\"colorbar\":{\"outlinewidth\":0,\"ticks\":\"\"},\"colorscale\":[[0.0,\"#0d0887\"],[0.1111111111111111,\"#46039f\"],[0.2222222222222222,\"#7201a8\"],[0.3333333333333333,\"#9c179e\"],[0.4444444444444444,\"#bd3786\"],[0.5555555555555556,\"#d8576b\"],[0.6666666666666666,\"#ed7953\"],[0.7777777777777778,\"#fb9f3a\"],[0.8888888888888888,\"#fdca26\"],[1.0,\"#f0f921\"]],\"type\":\"heatmap\"}],\"heatmapgl\":[{\"colorbar\":{\"outlinewidth\":0,\"ticks\":\"\"},\"colorscale\":[[0.0,\"#0d0887\"],[0.1111111111111111,\"#46039f\"],[0.2222222222222222,\"#7201a8\"],[0.3333333333333333,\"#9c179e\"],[0.4444444444444444,\"#bd3786\"],[0.5555555555555556,\"#d8576b\"],[0.6666666666666666,\"#ed7953\"],[0.7777777777777778,\"#fb9f3a\"],[0.8888888888888888,\"#fdca26\"],[1.0,\"#f0f921\"]],\"type\":\"heatmapgl\"}],\"histogram\":[{\"marker\":{\"pattern\":{\"fillmode\":\"overlay\",\"size\":10,\"solidity\":0.2}},\"type\":\"histogram\"}],\"histogram2d\":[{\"colorbar\":{\"outlinewidth\":0,\"ticks\":\"\"},\"colorscale\":[[0.0,\"#0d0887\"],[0.1111111111111111,\"#46039f\"],[0.2222222222222222,\"#7201a8\"],[0.3333333333333333,\"#9c179e\"],[0.4444444444444444,\"#bd3786\"],[0.5555555555555556,\"#d8576b\"],[0.6666666666666666,\"#ed7953\"],[0.7777777777777778,\"#fb9f3a\"],[0.8888888888888888,\"#fdca26\"],[1.0,\"#f0f921\"]],\"type\":\"histogram2d\"}],\"histogram2dcontour\":[{\"colorbar\":{\"outlinewidth\":0,\"ticks\":\"\"},\"colorscale\":[[0.0,\"#0d0887\"],[0.1111111111111111,\"#46039f\"],[0.2222222222222222,\"#7201a8\"],[0.3333333333333333,\"#9c179e\"],[0.4444444444444444,\"#bd3786\"],[0.5555555555555556,\"#d8576b\"],[0.6666666666666666,\"#ed7953\"],[0.7777777777777778,\"#fb9f3a\"],[0.8888888888888888,\"#fdca26\"],[1.0,\"#f0f921\"]],\"type\":\"histogram2dcontour\"}],\"mesh3d\":[{\"colorbar\":{\"outlinewidth\":0,\"ticks\":\"\"},\"type\":\"mesh3d\"}],\"parcoords\":[{\"line\":{\"colorbar\":{\"outlinewidth\":0,\"ticks\":\"\"}},\"type\":\"parcoords\"}],\"pie\":[{\"automargin\":true,\"type\":\"pie\"}],\"scatter\":[{\"marker\":{\"colorbar\":{\"outlinewidth\":0,\"ticks\":\"\"}},\"type\":\"scatter\"}],\"scatter3d\":[{\"line\":{\"colorbar\":{\"outlinewidth\":0,\"ticks\":\"\"}},\"marker\":{\"colorbar\":{\"outlinewidth\":0,\"ticks\":\"\"}},\"type\":\"scatter3d\"}],\"scattercarpet\":[{\"marker\":{\"colorbar\":{\"outlinewidth\":0,\"ticks\":\"\"}},\"type\":\"scattercarpet\"}],\"scattergeo\":[{\"marker\":{\"colorbar\":{\"outlinewidth\":0,\"ticks\":\"\"}},\"type\":\"scattergeo\"}],\"scattergl\":[{\"marker\":{\"colorbar\":{\"outlinewidth\":0,\"ticks\":\"\"}},\"type\":\"scattergl\"}],\"scattermapbox\":[{\"marker\":{\"colorbar\":{\"outlinewidth\":0,\"ticks\":\"\"}},\"type\":\"scattermapbox\"}],\"scatterpolar\":[{\"marker\":{\"colorbar\":{\"outlinewidth\":0,\"ticks\":\"\"}},\"type\":\"scatterpolar\"}],\"scatterpolargl\":[{\"marker\":{\"colorbar\":{\"outlinewidth\":0,\"ticks\":\"\"}},\"type\":\"scatterpolargl\"}],\"scatterternary\":[{\"marker\":{\"colorbar\":{\"outlinewidth\":0,\"ticks\":\"\"}},\"type\":\"scatterternary\"}],\"surface\":[{\"colorbar\":{\"outlinewidth\":0,\"ticks\":\"\"},\"colorscale\":[[0.0,\"#0d0887\"],[0.1111111111111111,\"#46039f\"],[0.2222222222222222,\"#7201a8\"],[0.3333333333333333,\"#9c179e\"],[0.4444444444444444,\"#bd3786\"],[0.5555555555555556,\"#d8576b\"],[0.6666666666666666,\"#ed7953\"],[0.7777777777777778,\"#fb9f3a\"],[0.8888888888888888,\"#fdca26\"],[1.0,\"#f0f921\"]],\"type\":\"surface\"}],\"table\":[{\"cells\":{\"fill\":{\"color\":\"#EBF0F8\"},\"line\":{\"color\":\"white\"}},\"header\":{\"fill\":{\"color\":\"#C8D4E3\"},\"line\":{\"color\":\"white\"}},\"type\":\"table\"}]},\"layout\":{\"annotationdefaults\":{\"arrowcolor\":\"#2a3f5f\",\"arrowhead\":0,\"arrowwidth\":1},\"autotypenumbers\":\"strict\",\"coloraxis\":{\"colorbar\":{\"outlinewidth\":0,\"ticks\":\"\"}},\"colorscale\":{\"diverging\":[[0,\"#8e0152\"],[0.1,\"#c51b7d\"],[0.2,\"#de77ae\"],[0.3,\"#f1b6da\"],[0.4,\"#fde0ef\"],[0.5,\"#f7f7f7\"],[0.6,\"#e6f5d0\"],[0.7,\"#b8e186\"],[0.8,\"#7fbc41\"],[0.9,\"#4d9221\"],[1,\"#276419\"]],\"sequential\":[[0.0,\"#0d0887\"],[0.1111111111111111,\"#46039f\"],[0.2222222222222222,\"#7201a8\"],[0.3333333333333333,\"#9c179e\"],[0.4444444444444444,\"#bd3786\"],[0.5555555555555556,\"#d8576b\"],[0.6666666666666666,\"#ed7953\"],[0.7777777777777778,\"#fb9f3a\"],[0.8888888888888888,\"#fdca26\"],[1.0,\"#f0f921\"]],\"sequentialminus\":[[0.0,\"#0d0887\"],[0.1111111111111111,\"#46039f\"],[0.2222222222222222,\"#7201a8\"],[0.3333333333333333,\"#9c179e\"],[0.4444444444444444,\"#bd3786\"],[0.5555555555555556,\"#d8576b\"],[0.6666666666666666,\"#ed7953\"],[0.7777777777777778,\"#fb9f3a\"],[0.8888888888888888,\"#fdca26\"],[1.0,\"#f0f921\"]]},\"colorway\":[\"#636efa\",\"#EF553B\",\"#00cc96\",\"#ab63fa\",\"#FFA15A\",\"#19d3f3\",\"#FF6692\",\"#B6E880\",\"#FF97FF\",\"#FECB52\"],\"font\":{\"color\":\"#2a3f5f\"},\"geo\":{\"bgcolor\":\"white\",\"lakecolor\":\"white\",\"landcolor\":\"#E5ECF6\",\"showlakes\":true,\"showland\":true,\"subunitcolor\":\"white\"},\"hoverlabel\":{\"align\":\"left\"},\"hovermode\":\"closest\",\"mapbox\":{\"style\":\"light\"},\"paper_bgcolor\":\"white\",\"plot_bgcolor\":\"#E5ECF6\",\"polar\":{\"angularaxis\":{\"gridcolor\":\"white\",\"linecolor\":\"white\",\"ticks\":\"\"},\"bgcolor\":\"#E5ECF6\",\"radialaxis\":{\"gridcolor\":\"white\",\"linecolor\":\"white\",\"ticks\":\"\"}},\"scene\":{\"xaxis\":{\"backgroundcolor\":\"#E5ECF6\",\"gridcolor\":\"white\",\"gridwidth\":2,\"linecolor\":\"white\",\"showbackground\":true,\"ticks\":\"\",\"zerolinecolor\":\"white\"},\"yaxis\":{\"backgroundcolor\":\"#E5ECF6\",\"gridcolor\":\"white\",\"gridwidth\":2,\"linecolor\":\"white\",\"showbackground\":true,\"ticks\":\"\",\"zerolinecolor\":\"white\"},\"zaxis\":{\"backgroundcolor\":\"#E5ECF6\",\"gridcolor\":\"white\",\"gridwidth\":2,\"linecolor\":\"white\",\"showbackground\":true,\"ticks\":\"\",\"zerolinecolor\":\"white\"}},\"shapedefaults\":{\"line\":{\"color\":\"#2a3f5f\"}},\"ternary\":{\"aaxis\":{\"gridcolor\":\"white\",\"linecolor\":\"white\",\"ticks\":\"\"},\"baxis\":{\"gridcolor\":\"white\",\"linecolor\":\"white\",\"ticks\":\"\"},\"bgcolor\":\"#E5ECF6\",\"caxis\":{\"gridcolor\":\"white\",\"linecolor\":\"white\",\"ticks\":\"\"}},\"title\":{\"x\":0.05},\"xaxis\":{\"automargin\":true,\"gridcolor\":\"white\",\"linecolor\":\"white\",\"ticks\":\"\",\"title\":{\"standoff\":15},\"zerolinecolor\":\"white\",\"zerolinewidth\":2},\"yaxis\":{\"automargin\":true,\"gridcolor\":\"white\",\"linecolor\":\"white\",\"ticks\":\"\",\"title\":{\"standoff\":15},\"zerolinecolor\":\"white\",\"zerolinewidth\":2}}},\"annotations\":[{\"font\":{\"color\":\"black\",\"size\":14},\"showarrow\":false,\"text\":\"<b>Balance</b>\",\"textangle\":0,\"x\":1,\"xanchor\":\"left\",\"xref\":\"paper\",\"y\":-5492,\"yshift\":2}]},                        {\"displayModeBar\": true, \"responsive\": true}                    ).then(function(){\n",
       "                            \n",
       "var gd = document.getElementById('6b4fd480-01a0-49d1-982d-b8f5b5ac0e7c');\n",
       "var x = new MutationObserver(function (mutations, observer) {{\n",
       "        var display = window.getComputedStyle(gd).display;\n",
       "        if (!display || display === 'none') {{\n",
       "            console.log([gd, 'removed!']);\n",
       "            Plotly.purge(gd);\n",
       "            observer.disconnect();\n",
       "        }}\n",
       "}});\n",
       "\n",
       "// Listen for the removal of the full notebook cells\n",
       "var notebookContainer = gd.closest('#notebook-container');\n",
       "if (notebookContainer) {{\n",
       "    x.observe(notebookContainer, {childList: true});\n",
       "}}\n",
       "\n",
       "// Listen for the clearing of the current output cell\n",
       "var outputEl = gd.closest('.output');\n",
       "if (outputEl) {{\n",
       "    x.observe(outputEl, {childList: true});\n",
       "}}\n",
       "\n",
       "                        })                };                });            </script>        </div>"
      ]
     },
     "metadata": {},
     "output_type": "display_data"
    }
   ],
   "source": [
    "electricity_export = {\n",
    "    'name': 'Export',\n",
    "    'type': 'bar',\n",
    "    'x': df_summer.index,\n",
    "    'y': df_summer['export'],\n",
    "    'marker': {\n",
    "        'color': 'gray'\n",
    "    },\n",
    "}\n",
    "\n",
    "electricity_import = {\n",
    "    'name': 'Import',\n",
    "    'type': 'bar',\n",
    "    'x': df_summer.index,\n",
    "    'y': df_summer['import_minus'],\n",
    "    'marker': {\n",
    "        'color': 'red'\n",
    "    },\n",
    "}\n",
    "\n",
    "balance = {\n",
    "    'name': 'Balance',\n",
    "    'x': df_summer.index,\n",
    "    'y': df_summer['import_export_balance'],\n",
    "    'mode': 'lines',\n",
    "    'line_color': '#000000',\n",
    "    'line': {\n",
    "        'width': 3\n",
    "    },\n",
    "    'showlegend': False\n",
    "} \n",
    "\n",
    "layout = {\n",
    "    'title': 'Import/Export History Summer',\n",
    "    'plot_bgcolor': '#ffffff',\n",
    "    'showlegend': True,\n",
    "    'legend': {\n",
    "        'orientation': 'h'\n",
    "    },\n",
    "    'barmode': 'relative',\n",
    "    'margin': {\n",
    "        'r': 250,\n",
    "        'b': 10,\n",
    "        'pad': 10\n",
    "    },\n",
    "    'xaxis': {\n",
    "        'showgrid': False,\n",
    "        'showline': False,\n",
    "        'color': '#a6a6a6'\n",
    "    },\n",
    "    'yaxis': {\n",
    "        'showgrid': True,\n",
    "        'tickformat': ',.0f',\n",
    "        'gridcolor': '#EBECF0',\n",
    "        'showline': False,\n",
    "        'color': '#a6a6a6'\n",
    "    },\n",
    "    'separators': ',\\''\n",
    "}\n",
    "config = {'displayModeBar': True}\n",
    "\n",
    "figdict = {\n",
    "    'data': [electricity_export, electricity_import, balance], \n",
    "    'layout': layout\n",
    "}\n",
    "\n",
    "\n",
    "\n",
    "fig = go.Figure(figdict)\n",
    "fig.add_annotation(\n",
    "    dict(\n",
    "        font=dict(color=\"black\", size=14),\n",
    "        x=1,\n",
    "        y=df_winter.import_export_balance.iloc[-1],\n",
    "        textangle=0,\n",
    "        xanchor='left',\n",
    "        showarrow=False,\n",
    "        text='<b>Balance</b>',\n",
    "        yshift=2,\n",
    "        xref='paper'\n",
    "    )\n",
    ")\n",
    "\n",
    "fig.show(config=config)"
   ]
  },
  {
   "cell_type": "code",
   "execution_count": 7,
   "id": "858f2545",
   "metadata": {
    "pycharm": {
     "name": "#%%\n"
    }
   },
   "outputs": [],
   "source": [
    "import numpy as np"
   ]
  },
  {
   "cell_type": "code",
   "execution_count": 8,
   "id": "f82dc4e5",
   "metadata": {},
   "outputs": [
    {
     "data": {
      "text/plain": [
       "array([-10000,  -9000,  -8000,  -7000,  -6000,  -5000,  -4000,  -3000,\n",
       "        -2000,  -1000,      0,   1000,   2000,   3000,   4000,   5000,\n",
       "         6000,   7000,   8000,   9000,  10000])"
      ]
     },
     "execution_count": 8,
     "metadata": {},
     "output_type": "execute_result"
    }
   ],
   "source": [
    "np.arange(-10_000, 10_001, 1000)"
   ]
  },
  {
   "cell_type": "code",
   "execution_count": 9,
   "id": "9a7b8fe0",
   "metadata": {},
   "outputs": [
    {
     "ename": "NameError",
     "evalue": "name 'px' is not defined",
     "output_type": "error",
     "traceback": [
      "\u001b[1;31m---------------------------------------------------------------------------\u001b[0m",
      "\u001b[1;31mNameError\u001b[0m                                 Traceback (most recent call last)",
      "\u001b[1;32m~\\AppData\\Local\\Temp\\ipykernel_6288\\3026082928.py\u001b[0m in \u001b[0;36m<module>\u001b[1;34m\u001b[0m\n\u001b[1;32m----> 1\u001b[1;33m fig = px.bar(df, x=\"sex\", y=\"total_bill\", color=\"smoker\", barmode=\"group\",\n\u001b[0m\u001b[0;32m      2\u001b[0m              \u001b[0mfacet_row\u001b[0m\u001b[1;33m=\u001b[0m\u001b[1;34m\"time\"\u001b[0m\u001b[1;33m,\u001b[0m \u001b[0mfacet_col\u001b[0m\u001b[1;33m=\u001b[0m\u001b[1;34m\"day\"\u001b[0m\u001b[1;33m,\u001b[0m\u001b[1;33m\u001b[0m\u001b[1;33m\u001b[0m\u001b[0m\n\u001b[0;32m      3\u001b[0m              category_orders={\"day\": [\"Thur\", \"Fri\", \"Sat\", \"Sun\"],\n\u001b[0;32m      4\u001b[0m                               \"time\": [\"Lunch\", \"Dinner\"]})\n\u001b[0;32m      5\u001b[0m \u001b[0mfig\u001b[0m\u001b[1;33m.\u001b[0m\u001b[0mshow\u001b[0m\u001b[1;33m(\u001b[0m\u001b[1;33m)\u001b[0m\u001b[1;33m\u001b[0m\u001b[1;33m\u001b[0m\u001b[0m\n",
      "\u001b[1;31mNameError\u001b[0m: name 'px' is not defined"
     ]
    }
   ],
   "source": [
    "fig = px.bar(df, x=\"sex\", y=\"total_bill\", color=\"smoker\", barmode=\"group\",\n",
    "             facet_row=\"time\", facet_col=\"day\",\n",
    "             category_orders={\"day\": [\"Thur\", \"Fri\", \"Sat\", \"Sun\"],\n",
    "                              \"time\": [\"Lunch\", \"Dinner\"]})\n",
    "fig.show()"
   ]
  }
 ],
 "metadata": {
  "kernelspec": {
   "display_name": "anaconda-dbs-kernel",
   "language": "python",
   "name": "anaconda-dbs-kernel"
  },
  "language_info": {
   "codemirror_mode": {
    "name": "ipython",
    "version": 3
   },
   "file_extension": ".py",
   "mimetype": "text/x-python",
   "name": "python",
   "nbconvert_exporter": "python",
   "pygments_lexer": "ipython3",
   "version": "3.7.11"
  }
 },
 "nbformat": 4,
 "nbformat_minor": 5
}
